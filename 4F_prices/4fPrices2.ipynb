{
 "cells": [
  {
   "cell_type": "markdown",
   "id": "e7ffe650",
   "metadata": {},
   "source": [
    "### Webscrapping from 4f.com\n",
    "\n",
    "Let download prices and articels selected products from 4F.com website"
   ]
  },
  {
   "cell_type": "code",
   "execution_count": 220,
   "id": "f0322617",
   "metadata": {},
   "outputs": [],
   "source": [
    "from bs4 import BeautifulSoup\n",
    "import requests \n",
    "import pandas as pd\n",
    "from time import time, sleep\n",
    "from datetime import datetime\n",
    "import random"
   ]
  },
  {
   "cell_type": "code",
   "execution_count": 28,
   "id": "8c17e849",
   "metadata": {},
   "outputs": [],
   "source": [
    "headers = {\n",
    "    'Accept-Encoding': 'gzip, deflate, sdch',\n",
    "    'Accept-Language': 'en-US,en;q=0.8',\n",
    "    'Upgrade-Insecure-Requests': '1',\n",
    "    'User-Agent': 'Mozilla/5.0 (X11; Linux x86_64) AppleWebKit/537.36 (KHTML, like Gecko) Chrome/56.0.2924.87 Safari/537.36',\n",
    "    'Accept': 'text/html,application/xhtml+xml,application/xml;q=0.9,image/webp,*/*;q=0.8',\n",
    "    'Cache-Control': 'max-age=0',\n",
    "    'Connection': 'keep-alive',\n",
    "}"
   ]
  },
  {
   "cell_type": "code",
   "execution_count": 30,
   "id": "821c651a",
   "metadata": {},
   "outputs": [],
   "source": [
    "# list of free proxies \n",
    "proxies = [{\"http\": \"95.178.108.89\"},\n",
    "           {\"http\": \"95.178.108.189\"},\n",
    "           {\"http\": \"80.48.119.28\"},\n",
    "           {\"http\": \"192.166.255.200\"},\n",
    "           {\"http\": \"89.174.108.158\"},\n",
    "           {\"http\": \"193.106.231.145\"},\n",
    "           {\"http\": \"91.222.147.56\"},\n",
    "           {\"http\": \"77.65.163.170\"}]"
   ]
  },
  {
   "cell_type": "code",
   "execution_count": 281,
   "id": "48c444e7",
   "metadata": {},
   "outputs": [],
   "source": [
    "def scrap_4F(main_url = \"https://4f.com.pl/\", subpages = ['kobiety','mezczyzni', 'chlopcy']):\n",
    "    '''\n",
    "    main_url = main url adress without any subpages\n",
    "    subpages = list of subpages, ie = ['kobiety','mezczyzni', 'chlopcy'], to get 'https://4f.com.pl/mezczyzni/''\n",
    "    \n",
    "    '''\n",
    "    start = time() # start time\n",
    "    \n",
    "    session = requests.Session()\n",
    "    session.max_redirects = 60\n",
    "    cookies = dict(cookies_are='working')\n",
    "    \n",
    "    # empty dataframe to collect data\n",
    "    pricelist = pd.DataFrame({\"Article\" : [],\n",
    "                 \"Price\" : []})\n",
    "\n",
    "    # iteration through each subpage\n",
    "    for id, subpage in enumerate(subpages):\n",
    "        for n in range(1,100):\n",
    "            \n",
    "            # iterate through each number of subpage\n",
    "            url = main_url + str(subpage) + '/strona-{}.html?product_list_limit=120'.format(n)\n",
    "\n",
    "            # get whole structure of data, and avoid getting blocked, by add headers parameter\n",
    "            page = session.get(url, headers = headers,cookies=cookies) \n",
    "\n",
    "            # let parse our web page\n",
    "            soup = BeautifulSoup(page.content)\n",
    "            \n",
    "            # iterate throug all products on one page\n",
    "            for product in soup.find_all(attrs = {'class': 'product-item-link'}):\n",
    "                link  = product.get('href')\n",
    "                \n",
    "                # choose random proxy\n",
    "                proxy = random.choice(proxies)\n",
    "                \n",
    "                page1 = session.get(link, headers = headers,proxies = proxy, timeout = 10, cookies=cookies) \n",
    "                soup1 = BeautifulSoup(page1.content)\n",
    "\n",
    "                index = soup1.find(attrs ={'class' : \"description technical\"}).find(text= 'Symbol produktu:').previous_element.next_sibling.next_sibling.text\n",
    "                price = soup1.find(attrs ={'class' : \"product-info-price\"}).find_all(attrs = {\"class\": \"price\"})[-1].string.replace('\\xa0PLN', \"\").replace(\"\\xa0\",\"\")\n",
    "                price = float(price.replace(\",\",\".\"))\n",
    "\n",
    "                pricelist = pricelist.append({'Article' : index,\n",
    "                               'Price' : price},\n",
    "                              ignore_index = True)\n",
    "\n",
    "                # sleep for one seconds after each link to avoid block\n",
    "                sleep(1)\n",
    "\n",
    "            # check if there is another subpage\n",
    "            is_next_page = soup.find(attrs = {'class' :  \"item pages-item-next\"})\n",
    "\n",
    "            if is_next_page == None:\n",
    "                break\n",
    "                \n",
    "            print(\"number of subpage: \", subpage, n)    \n",
    "            # sleep for one seconds to avoid block\n",
    "            sleep(1)\n",
    "\n",
    "    end = time()\n",
    "    print(round(end - start,2), 'calculation time in sec')\n",
    "    \n",
    "    return pricelist"
   ]
  },
  {
   "cell_type": "code",
   "execution_count": 282,
   "id": "cb7cecb4",
   "metadata": {},
   "outputs": [
    {
     "name": "stdout",
     "output_type": "stream",
     "text": [
      "number of subpage:  promocje/promocje-mezczyzni 1\n",
      "number of subpage:  promocje/promocje-mezczyzni 2\n",
      "number of subpage:  promocje/promocje-mezczyzni 3\n",
      "567.81 calculation time in sec\n"
     ]
    }
   ],
   "source": [
    "data  = scrap_4F(subpages = ['promocje/promocje-mezczyzni'])"
   ]
  },
  {
   "cell_type": "code",
   "execution_count": 283,
   "id": "f3adcc85",
   "metadata": {},
   "outputs": [
    {
     "data": {
      "text/html": [
       "<div>\n",
       "<style scoped>\n",
       "    .dataframe tbody tr th:only-of-type {\n",
       "        vertical-align: middle;\n",
       "    }\n",
       "\n",
       "    .dataframe tbody tr th {\n",
       "        vertical-align: top;\n",
       "    }\n",
       "\n",
       "    .dataframe thead th {\n",
       "        text-align: right;\n",
       "    }\n",
       "</style>\n",
       "<table border=\"1\" class=\"dataframe\">\n",
       "  <thead>\n",
       "    <tr style=\"text-align: right;\">\n",
       "      <th></th>\n",
       "      <th>Article</th>\n",
       "      <th>Price</th>\n",
       "    </tr>\n",
       "  </thead>\n",
       "  <tbody>\n",
       "    <tr>\n",
       "      <th>0</th>\n",
       "      <td>D4Z21-BLM211-27S</td>\n",
       "      <td>119.99</td>\n",
       "    </tr>\n",
       "    <tr>\n",
       "      <th>1</th>\n",
       "      <td>D4Z21-BLM211-25S</td>\n",
       "      <td>119.99</td>\n",
       "    </tr>\n",
       "    <tr>\n",
       "      <th>2</th>\n",
       "      <td>D4Z21-BLM210-25S</td>\n",
       "      <td>149.99</td>\n",
       "    </tr>\n",
       "    <tr>\n",
       "      <th>3</th>\n",
       "      <td>D4Z21-BLM210-20S</td>\n",
       "      <td>149.99</td>\n",
       "    </tr>\n",
       "    <tr>\n",
       "      <th>4</th>\n",
       "      <td>D4Z21-SPMD204-25S</td>\n",
       "      <td>129.99</td>\n",
       "    </tr>\n",
       "    <tr>\n",
       "      <th>...</th>\n",
       "      <td>...</td>\n",
       "      <td>...</td>\n",
       "    </tr>\n",
       "    <tr>\n",
       "      <th>382</th>\n",
       "      <td>H4Z19-KSU002-20S</td>\n",
       "      <td>179.99</td>\n",
       "    </tr>\n",
       "    <tr>\n",
       "      <th>383</th>\n",
       "      <td>H4Z19-REM005-20S</td>\n",
       "      <td>129.99</td>\n",
       "    </tr>\n",
       "    <tr>\n",
       "      <th>384</th>\n",
       "      <td>H4Z19-REM004-20S</td>\n",
       "      <td>89.99</td>\n",
       "    </tr>\n",
       "    <tr>\n",
       "      <th>385</th>\n",
       "      <td>D4Z19-REM251-24M</td>\n",
       "      <td>49.99</td>\n",
       "    </tr>\n",
       "    <tr>\n",
       "      <th>386</th>\n",
       "      <td>D4Z19-REM153-23S</td>\n",
       "      <td>99.99</td>\n",
       "    </tr>\n",
       "  </tbody>\n",
       "</table>\n",
       "<p>387 rows × 2 columns</p>\n",
       "</div>"
      ],
      "text/plain": [
       "               Article   Price\n",
       "0     D4Z21-BLM211-27S  119.99\n",
       "1     D4Z21-BLM211-25S  119.99\n",
       "2     D4Z21-BLM210-25S  149.99\n",
       "3     D4Z21-BLM210-20S  149.99\n",
       "4    D4Z21-SPMD204-25S  129.99\n",
       "..                 ...     ...\n",
       "382   H4Z19-KSU002-20S  179.99\n",
       "383   H4Z19-REM005-20S  129.99\n",
       "384   H4Z19-REM004-20S   89.99\n",
       "385   D4Z19-REM251-24M   49.99\n",
       "386   D4Z19-REM153-23S   99.99\n",
       "\n",
       "[387 rows x 2 columns]"
      ]
     },
     "execution_count": 283,
     "metadata": {},
     "output_type": "execute_result"
    }
   ],
   "source": [
    "data"
   ]
  },
  {
   "cell_type": "code",
   "execution_count": 285,
   "id": "018f1a75",
   "metadata": {},
   "outputs": [],
   "source": [
    "today = datetime.today().strftime('%Y-%m-%d')\n",
    "data.to_csv(\"4F_\" + today + \".csv\",index = False)"
   ]
  }
 ],
 "metadata": {
  "kernelspec": {
   "display_name": "Python 3",
   "language": "python",
   "name": "python3"
  },
  "language_info": {
   "codemirror_mode": {
    "name": "ipython",
    "version": 3
   },
   "file_extension": ".py",
   "mimetype": "text/x-python",
   "name": "python",
   "nbconvert_exporter": "python",
   "pygments_lexer": "ipython3",
   "version": "3.8.8"
  }
 },
 "nbformat": 4,
 "nbformat_minor": 5
}
