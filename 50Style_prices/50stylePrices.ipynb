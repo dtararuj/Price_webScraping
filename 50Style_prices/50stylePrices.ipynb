{
 "cells": [
  {
   "cell_type": "markdown",
   "id": "a88ee477",
   "metadata": {},
   "source": [
    "# Webscrapping from https://50style.pl/\n",
    "\n",
    "Let download prices and names all new products from https://50style.pl/ website"
   ]
  },
  {
   "cell_type": "code",
   "execution_count": 1,
   "id": "19bb6c76",
   "metadata": {},
   "outputs": [
    {
     "name": "stdout",
     "output_type": "stream",
     "text": [
      "Collecting cfscrapeNote: you may need to restart the kernel to use updated packages.\n",
      "\n",
      "  Downloading cfscrape-2.1.1-py3-none-any.whl (12 kB)\n",
      "Requirement already satisfied: requests>=2.6.1 in c:\\users\\dawid\\anaconda3\\lib\\site-packages (from cfscrape) (2.25.1)\n",
      "Requirement already satisfied: idna<3,>=2.5 in c:\\users\\dawid\\anaconda3\\lib\\site-packages (from requests>=2.6.1->cfscrape) (2.10)\n",
      "Requirement already satisfied: urllib3<1.27,>=1.21.1 in c:\\users\\dawid\\anaconda3\\lib\\site-packages (from requests>=2.6.1->cfscrape) (1.26.4)\n",
      "Requirement already satisfied: chardet<5,>=3.0.2 in c:\\users\\dawid\\anaconda3\\lib\\site-packages (from requests>=2.6.1->cfscrape) (4.0.0)\n",
      "Requirement already satisfied: certifi>=2017.4.17 in c:\\users\\dawid\\anaconda3\\lib\\site-packages (from requests>=2.6.1->cfscrape) (2020.12.5)\n",
      "Installing collected packages: cfscrape\n",
      "Successfully installed cfscrape-2.1.1\n"
     ]
    }
   ],
   "source": [
    "# download tool to avoid 'access denied' on the website\n",
    "#pip install cfscrape"
   ]
  },
  {
   "cell_type": "code",
   "execution_count": 115,
   "id": "3d39a63a",
   "metadata": {},
   "outputs": [],
   "source": [
    "import cfscrape\n",
    "from bs4 import BeautifulSoup\n",
    "import requests\n",
    "from lxml import html\n",
    "import pandas as pd\n",
    "import re"
   ]
  },
  {
   "cell_type": "code",
   "execution_count": 479,
   "id": "4042c724",
   "metadata": {},
   "outputs": [],
   "source": [
    "# sample link \n",
    "url = 'https://50style.pl/nowosci?page=2'"
   ]
  },
  {
   "cell_type": "code",
   "execution_count": 480,
   "id": "ddabd4bc",
   "metadata": {},
   "outputs": [],
   "source": [
    "# initilizing scraper to get data blocked on the website\n",
    "scraper = cfscrape.create_scraper()"
   ]
  },
  {
   "cell_type": "code",
   "execution_count": 481,
   "id": "f618df5b",
   "metadata": {},
   "outputs": [],
   "source": [
    "# get website content  \n",
    "content = scraper.get(url).text"
   ]
  },
  {
   "cell_type": "code",
   "execution_count": 482,
   "id": "12e95923",
   "metadata": {},
   "outputs": [],
   "source": [
    "# parse text to html format\n",
    "tree = html.fromstring(content)"
   ]
  },
  {
   "cell_type": "code",
   "execution_count": 483,
   "id": "e44b8b8e",
   "metadata": {},
   "outputs": [
    {
     "data": {
      "text/plain": [
       "['UP8 SKARPETY ŚWIĄ...',\n",
       " 'CHAMPION NELA',\n",
       " 'UP8 TIFI',\n",
       " 'UP8 SKARPETY ŚWIĄ...',\n",
       " 'PUMA NIEVE BOOT W...',\n",
       " 'PUMA NIEVE BOOT W...',\n",
       " 'UMBRO KURTKA ZIMO...',\n",
       " 'UMBRO KURTKA ZIMO...',\n",
       " 'UMBRO KURTKA ZIMO...',\n",
       " 'PUMA KURTKA ESS P...',\n",
       " 'VANS MN RANGE',\n",
       " 'UP8 KURTKA ZIMOWA...',\n",
       " 'UMBRO KURTKA ZIMO...',\n",
       " 'UP8 KURTKA ZIMOWA...',\n",
       " 'UMBRO KURTKA ZIMO...',\n",
       " 'LOTTO KURTKA ZIMO...',\n",
       " 'UMBRO KURTKA ZIMO...',\n",
       " 'UMBRO KURTKA ZIMO...',\n",
       " 'LOTTO KURTKA ZIMO...',\n",
       " 'UP8 KURTKA ZIMOWA...',\n",
       " 'LOTTO KURTKA ZIMO...',\n",
       " 'LOTTO KURTKA ZIMO...',\n",
       " 'UP8 KURTKA ZIMOWA...',\n",
       " 'UP8 KURTKA ZIMOWA...',\n",
       " 'LOTTO KURTKA ZIMO...',\n",
       " 'UP8 KURTKA ZIMOWA...',\n",
       " 'ADIDAS KURTKA ESS...',\n",
       " 'ADIDAS EQ19 RUN W...',\n",
       " 'ADIDAS GRAND COUR...',\n",
       " 'ADIDAS GRAND COUR...',\n",
       " 'VANS MN FILMORE H...',\n",
       " 'VANS MN WARD VANS...',\n",
       " 'VANS MN FILMORE H...',\n",
       " 'VANS YT FILMORE H...',\n",
       " 'VANS MY FILMORE H...',\n",
       " 'VANS MY FILMORE H...',\n",
       " 'ADIDAS EQ19 RUN W...',\n",
       " 'VANS YT WARD VANS...',\n",
       " 'VANS YT RANGE EXP...',\n",
       " 'VANS MY FILMORE H...',\n",
       " 'ADIDAS RETROVULC ...',\n",
       " 'ADIDAS RETROVULC ...',\n",
       " 'REEBOK ROYAL BB45...',\n",
       " 'ADIDAS ENTRAP MID...',\n",
       " 'ADIDAS HOOPS MID ...',\n",
       " 'UMBRO YUKI II',\n",
       " 'ADIDAS OWNTHEGAME...',\n",
       " 'ADIDAS OWNTHEGAME...',\n",
       " 'ADIDAS HOOPS MID ...',\n",
       " 'ADIDAS TERREX SWI...',\n",
       " 'ADIDAS HOOPS MID ...',\n",
       " 'UP8 NEVOS',\n",
       " 'UP8 NEVOS',\n",
       " 'UP8 BOKSERKI ŚWIĄ...',\n",
       " 'NIKE DEFY ALL DAY',\n",
       " 'ADIDAS SPODNIE M ...',\n",
       " 'ADIDAS CZAPKA ZIM...',\n",
       " 'CHAMPION PUMP',\n",
       " 'REEBOK ROYAL TECH...',\n",
       " 'ADIDAS ENTRAP']"
      ]
     },
     "execution_count": 483,
     "metadata": {},
     "output_type": "execute_result"
    }
   ],
   "source": [
    "# get the names of proucts\n",
    "xpath_selector = '/html/body/main/div/div[2]/div[3]/div[2]/div/div/div/div/div/a/text()'\n",
    "products = tree.xpath(xpath_selector)\n",
    "\n",
    "# clean our list\n",
    "products_clean = []\n",
    "\n",
    "for s in products:\n",
    "    products_clean.append(re.sub(r'[\\t\\n ]+', ' ', s).strip())\n",
    "    \n",
    "products_clean\n"
   ]
  },
  {
   "cell_type": "code",
   "execution_count": 484,
   "id": "ef02d0eb",
   "metadata": {},
   "outputs": [
    {
     "data": {
      "text/plain": [
       "[' 44,99 zł',\n",
       " ' 249,99 zł',\n",
       " ' 179,99 zł',\n",
       " ' 44,99 zł',\n",
       " ' 249,99 zł',\n",
       " ' 249,99 zł',\n",
       " ' 229,99 zł',\n",
       " ' 279,99 zł',\n",
       " ' 249,99 zł',\n",
       " ' 369,99 zł',\n",
       " ' 399,99 zł',\n",
       " ' 249,99 zł',\n",
       " ' 279,99 zł',\n",
       " ' 229,99 zł',\n",
       " ' 299,99 zł',\n",
       " ' 199,99 zł',\n",
       " ' 249,99 zł',\n",
       " ' 249,99 zł',\n",
       " ' 229,99 zł',\n",
       " ' 229,99 zł',\n",
       " ' 229,99 zł',\n",
       " ' 229,99 zł',\n",
       " ' 199,99 zł',\n",
       " ' 199,99 zł',\n",
       " '259,99 zł',\n",
       " ' 249,99 zł',\n",
       " ' 379,99 zł',\n",
       " ' 269,99 zł',\n",
       " ' 249,99 zł',\n",
       " ' 249,99 zł',\n",
       " ' 339,99 zł',\n",
       " ' 339,99 zł',\n",
       " ' 339,99 zł',\n",
       " ' 219,99 zł',\n",
       " ' 239,99 zł',\n",
       " ' 219,99 zł',\n",
       " ' 269,99 zł',\n",
       " ' 239,99 zł',\n",
       " ' 239,99 zł',\n",
       " ' 259,99 zł',\n",
       " ' 269,99 zł',\n",
       " ' 269,99 zł',\n",
       " ' 249,99 zł',\n",
       " ' 269,99 zł',\n",
       " ' 169,99 zł',\n",
       " ' 159,99 zł',\n",
       " ' 199,99 zł',\n",
       " ' 199,99 zł',\n",
       " ' 179,99 zł',\n",
       " ' 399,99 zł',\n",
       " ' 179,99 zł',\n",
       " ' 159,99 zł',\n",
       " ' 159,99 zł',\n",
       " ' 49,99 zł',\n",
       " ' 259,99 zł',\n",
       " ' 179,99 zł',\n",
       " ' 79,99 zł',\n",
       " ' 239,99 zł',\n",
       " ' 249,99 zł',\n",
       " ' 269,99 zł']"
      ]
     },
     "execution_count": 484,
     "metadata": {},
     "output_type": "execute_result"
    }
   ],
   "source": [
    "# get the prices\n",
    "xpath_prices= '/html/body/main/div/div[2]/div[3]/div[2]/div/div/div/div/div/p[1]/text()'\n",
    "prices = tree.xpath(xpath_prices)\n",
    "prices"
   ]
  },
  {
   "cell_type": "code",
   "execution_count": 485,
   "id": "5a82f44f",
   "metadata": {},
   "outputs": [
    {
     "data": {
      "text/plain": [
       "7"
      ]
     },
     "execution_count": 485,
     "metadata": {},
     "output_type": "execute_result"
    }
   ],
   "source": [
    "# get the last page\n",
    "xpath_last_page = '/html/body/main/div/div[2]/div[4]/form/div/div[3]/nav/span/text()'\n",
    "last_page = tree.xpath(xpath_last_page)\n",
    "int(str(sorted(last_page)[-1]).split()[-1])\n",
    "\n",
    "\n"
   ]
  },
  {
   "cell_type": "code",
   "execution_count": 489,
   "id": "b10411da",
   "metadata": {},
   "outputs": [],
   "source": [
    "# let automate getting data from all website, containing \"Nowosci\" from website\n",
    "\n",
    "# empty dataframe to collect data\n",
    "datatable= pd.DataFrame({\"Names\" : [],\n",
    "             \"Prices\" :[]})\n",
    "\n",
    "# initilizing scraper to get data blocked on the website\n",
    "scraper = cfscrape.create_scraper()\n",
    "\n",
    "for num_page in range(1,1000):  # random big number to keep iterate until we reach limit\n",
    "    #our website with all possible subsites \n",
    "    url =  'https://50style.pl/nowosci?page='+ str(num_page)\n",
    "    \n",
    "    # get website content  \n",
    "    content = scraper.get(url).text\n",
    "    \n",
    "    # parse text to html format\n",
    "    tree = html.fromstring(content)\n",
    "\n",
    "    # get the names from website\n",
    "    xpath_selector = '/html/body/main/div/div[2]/div[3]/div[2]/div/div/div/div/div/a/text()'\n",
    "    products = tree.xpath(xpath_selector)\n",
    "\n",
    "    # clean our list\n",
    "    products_clean = []\n",
    "\n",
    "    for s in products:\n",
    "        products_clean.append(re.sub(r'[\\t\\n ]+', ' ', s).strip())\n",
    "    \n",
    "    # get the prices\n",
    "    xpath_prices= '/html/body/main/div/div[2]/div[3]/div[2]/div/div/div/div/div/p[1]/text()'\n",
    "    prices = tree.xpath(xpath_prices)\n",
    "    prices\n",
    "    \n",
    "    # join names and prices together\n",
    "    for i in range(0, len(products)):\n",
    "        datatable = datatable.append({\"Names\" : products_clean[i],\n",
    "                    \"Prices\" : prices[i]},\n",
    "                    ignore_index = True)\n",
    "    \n",
    "    # check if it is last page\n",
    "    xpath_last_page1 = '/html/body/main/div/div[2]/div[4]/form/div/div[3]/nav/span/text()'\n",
    "    last_page1 = tree.xpath(xpath_last_page1)\n",
    "    last = int(str(sorted(last_page1)[-1]).split()[-1])\n",
    "\n",
    "    if num_page == last:\n",
    "        break"
   ]
  },
  {
   "cell_type": "code",
   "execution_count": 490,
   "id": "abc69fbf",
   "metadata": {},
   "outputs": [
    {
     "data": {
      "text/html": [
       "<div>\n",
       "<style scoped>\n",
       "    .dataframe tbody tr th:only-of-type {\n",
       "        vertical-align: middle;\n",
       "    }\n",
       "\n",
       "    .dataframe tbody tr th {\n",
       "        vertical-align: top;\n",
       "    }\n",
       "\n",
       "    .dataframe thead th {\n",
       "        text-align: right;\n",
       "    }\n",
       "</style>\n",
       "<table border=\"1\" class=\"dataframe\">\n",
       "  <thead>\n",
       "    <tr style=\"text-align: right;\">\n",
       "      <th></th>\n",
       "      <th>Names</th>\n",
       "      <th>Prices</th>\n",
       "    </tr>\n",
       "  </thead>\n",
       "  <tbody>\n",
       "    <tr>\n",
       "      <th>0</th>\n",
       "      <td>ADIDAS TERREX HYP...</td>\n",
       "      <td>249,99 zł</td>\n",
       "    </tr>\n",
       "    <tr>\n",
       "      <th>1</th>\n",
       "      <td>ADIDAS FROZETIC</td>\n",
       "      <td>379,99 zł</td>\n",
       "    </tr>\n",
       "    <tr>\n",
       "      <th>2</th>\n",
       "      <td>ADIDAS FROZETIC</td>\n",
       "      <td>329,99 zł</td>\n",
       "    </tr>\n",
       "    <tr>\n",
       "      <th>3</th>\n",
       "      <td>ADIDAS OWNTHEGAME...</td>\n",
       "      <td>269,99 zł</td>\n",
       "    </tr>\n",
       "    <tr>\n",
       "      <th>4</th>\n",
       "      <td>NIKE COURT BOROUG...</td>\n",
       "      <td>259,99 zł</td>\n",
       "    </tr>\n",
       "    <tr>\n",
       "      <th>...</th>\n",
       "      <td>...</td>\n",
       "      <td>...</td>\n",
       "    </tr>\n",
       "    <tr>\n",
       "      <th>404</th>\n",
       "      <td>VANS WM FILMORE H...</td>\n",
       "      <td>339,99 zł</td>\n",
       "    </tr>\n",
       "    <tr>\n",
       "      <th>405</th>\n",
       "      <td>NIKE VICTORI ONE</td>\n",
       "      <td>99,99 zł</td>\n",
       "    </tr>\n",
       "    <tr>\n",
       "      <th>406</th>\n",
       "      <td>VANS MN WARD</td>\n",
       "      <td>299,99 zł</td>\n",
       "    </tr>\n",
       "    <tr>\n",
       "      <th>407</th>\n",
       "      <td>NIKE VICTORI ONE</td>\n",
       "      <td>139,99 zł</td>\n",
       "    </tr>\n",
       "    <tr>\n",
       "      <th>408</th>\n",
       "      <td>NIKE KAWA SE</td>\n",
       "      <td>109,99 zł</td>\n",
       "    </tr>\n",
       "  </tbody>\n",
       "</table>\n",
       "<p>409 rows × 2 columns</p>\n",
       "</div>"
      ],
      "text/plain": [
       "                    Names      Prices\n",
       "0    ADIDAS TERREX HYP...   249,99 zł\n",
       "1         ADIDAS FROZETIC   379,99 zł\n",
       "2         ADIDAS FROZETIC   329,99 zł\n",
       "3    ADIDAS OWNTHEGAME...   269,99 zł\n",
       "4    NIKE COURT BOROUG...   259,99 zł\n",
       "..                    ...         ...\n",
       "404  VANS WM FILMORE H...   339,99 zł\n",
       "405      NIKE VICTORI ONE    99,99 zł\n",
       "406          VANS MN WARD   299,99 zł\n",
       "407      NIKE VICTORI ONE   139,99 zł\n",
       "408          NIKE KAWA SE   109,99 zł\n",
       "\n",
       "[409 rows x 2 columns]"
      ]
     },
     "execution_count": 490,
     "metadata": {},
     "output_type": "execute_result"
    }
   ],
   "source": [
    "datatable"
   ]
  }
 ],
 "metadata": {
  "kernelspec": {
   "display_name": "Python 3",
   "language": "python",
   "name": "python3"
  },
  "language_info": {
   "codemirror_mode": {
    "name": "ipython",
    "version": 3
   },
   "file_extension": ".py",
   "mimetype": "text/x-python",
   "name": "python",
   "nbconvert_exporter": "python",
   "pygments_lexer": "ipython3",
   "version": "3.8.8"
  }
 },
 "nbformat": 4,
 "nbformat_minor": 5
}
