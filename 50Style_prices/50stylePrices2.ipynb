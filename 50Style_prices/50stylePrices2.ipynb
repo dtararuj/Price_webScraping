{
 "cells": [
  {
   "cell_type": "markdown",
   "id": "19254b8a",
   "metadata": {},
   "source": [
    "# Webscrapping from https://50style.pl/\n",
    "### Articels and prices from each subpage"
   ]
  },
  {
   "cell_type": "code",
   "execution_count": 1,
   "id": "c4c7fa9d",
   "metadata": {},
   "outputs": [],
   "source": [
    "from bs4 import BeautifulSoup\n",
    "import requests \n",
    "import pandas as pd\n",
    "from time import time, sleep\n",
    "import random"
   ]
  },
  {
   "cell_type": "code",
   "execution_count": 14,
   "id": "17967be3",
   "metadata": {},
   "outputs": [],
   "source": [
    "# list of free proxies \n",
    "proxies = [{\"http\": \"95.178.108.89\"},\n",
    "           {\"http\": \"95.178.108.189\"},\n",
    "           {\"http\": \"80.48.119.28\"},\n",
    "           {\"http\": \"192.166.255.200\"},\n",
    "           {\"http\": \"89.174.108.158\"},\n",
    "           {\"http\": \"193.106.231.145\"},\n",
    "           {\"http\": \"91.222.147.56\"},\n",
    "           {\"http\": \"77.65.163.170\"}]"
   ]
  },
  {
   "cell_type": "code",
   "execution_count": 25,
   "id": "6bdb7821",
   "metadata": {},
   "outputs": [],
   "source": [
    "headers = {\n",
    "    'Accept-Encoding': 'gzip, deflate, sdch',\n",
    "    'Accept-Language': 'en-US,en;q=0.8',\n",
    "    'Upgrade-Insecure-Requests': '1',\n",
    "    'User-Agent': 'Mozilla/5.0 (X11; Linux x86_64) AppleWebKit/537.36 (KHTML, like Gecko) Chrome/56.0.2924.87 Safari/537.36',\n",
    "    'Accept': 'text/html,application/xhtml+xml,application/xml;q=0.9,image/webp,*/*;q=0.8',\n",
    "    'Cache-Control': 'max-age=0',\n",
    "    'Connection': 'keep-alive',\n",
    "}"
   ]
  },
  {
   "cell_type": "code",
   "execution_count": 31,
   "id": "6e57a07b",
   "metadata": {},
   "outputs": [],
   "source": [
    "def scrap_50style(main_url = \"https://50style.pl/\", subpages = ['meskie','damskie', 'dzieciece']):\n",
    "    '''\n",
    "    main_url = main url adress without any subpages\n",
    "    subpages = list of subpages, ie = ['meskie','damskie', 'dzieciece'], to get 'https://50style.pl/dzieciece'\n",
    "    \n",
    "    '''\n",
    "    start = time() # start time\n",
    "    \n",
    "    session = requests.Session()\n",
    "    session.max_redirects = 60\n",
    "    cookies = dict(cookies_are='working')\n",
    "    \n",
    "    # empty dataframe to collect data\n",
    "    pricelist = pd.DataFrame({\"Article\" : [],\n",
    "                 \"Price\" : []})\n",
    "\n",
    "    # iteration through each subpage\n",
    "    for id, subpage in enumerate(subpages):\n",
    "        for n in range(1,100):\n",
    "            \n",
    "            # iterate through each number of subpage\n",
    "            url = main_url + str(subpage) + '?sort=default&limit=180&page=' + str(n) \n",
    "\n",
    "            # get whole structure of data, and avoid getting blocked, by add headers parameter\n",
    "            page = session.get(url, headers = headers,cookies=cookies) \n",
    "\n",
    "            # let parse our web page\n",
    "            soup = BeautifulSoup(page.content)\n",
    "            \n",
    "            # iterate throug all products on one page\n",
    "            for product in soup.find_all(attrs = {'class': 'b-itemList_name'}):\n",
    "                link =\"https://50style.pl\" + product.find('a')['href']\n",
    "\n",
    "                # choose random proxy\n",
    "                proxy = random.choice(proxies)\n",
    "                \n",
    "                page1 = session.get(link, headers = headers,proxies = proxy, timeout = 28,cookies=cookies) \n",
    "                soup1 = BeautifulSoup(page1.content)\n",
    "\n",
    "                index = soup1.find(attrs = {'class': \"m-accordion_productCode\"}).text\n",
    "                price = soup1.find(attrs = {'class': \"price-value\"}).text\n",
    "\n",
    "                pricelist = pricelist.append({'Article' : index,\n",
    "                               'Price' : price},\n",
    "                              ignore_index = True)\n",
    "\n",
    "                # sleep for one seconds after each link to avoid block\n",
    "                sleep(1)\n",
    "\n",
    "            # check if there is another subpage\n",
    "            next_page_no = soup.find(class_='m-pagination').find_all('span')[-1].text.replace('z ',\"\").strip()\n",
    "\n",
    "            if next_page_no == '':\n",
    "                break\n",
    "                \n",
    "            print(\"number of subpage: \", subpage, n)    \n",
    "            # sleep for three seconds to avoid block\n",
    "            sleep(1)\n",
    "\n",
    "    end = time()\n",
    "    print(round(end - start,2), 'calculation time in sec')\n",
    "    \n",
    "    return pricelist"
   ]
  },
  {
   "cell_type": "code",
   "execution_count": 33,
   "id": "2c1bcf94",
   "metadata": {},
   "outputs": [],
   "source": [
    "# if we want only specific brands\n",
    "groups = ['marki/adidas','marki/new-balance','marki/puma','marki/reebok','marki/vans']"
   ]
  },
  {
   "cell_type": "code",
   "execution_count": 35,
   "id": "3db09cef",
   "metadata": {
    "scrolled": true
   },
   "outputs": [
    {
     "name": "stdout",
     "output_type": "stream",
     "text": [
      "number of subpage:  marki/adidas 1\n",
      "number of subpage:  marki/adidas 2\n",
      "number of subpage:  marki/adidas 3\n",
      "number of subpage:  marki/puma 1\n",
      "3714.15 calculation time in sec\n"
     ]
    },
    {
     "data": {
      "text/html": [
       "<div>\n",
       "<style scoped>\n",
       "    .dataframe tbody tr th:only-of-type {\n",
       "        vertical-align: middle;\n",
       "    }\n",
       "\n",
       "    .dataframe tbody tr th {\n",
       "        vertical-align: top;\n",
       "    }\n",
       "\n",
       "    .dataframe thead th {\n",
       "        text-align: right;\n",
       "    }\n",
       "</style>\n",
       "<table border=\"1\" class=\"dataframe\">\n",
       "  <thead>\n",
       "    <tr style=\"text-align: right;\">\n",
       "      <th></th>\n",
       "      <th>Article</th>\n",
       "      <th>Price</th>\n",
       "    </tr>\n",
       "  </thead>\n",
       "  <tbody>\n",
       "    <tr>\n",
       "      <th>0</th>\n",
       "      <td>FW6782</td>\n",
       "      <td>329,99</td>\n",
       "    </tr>\n",
       "    <tr>\n",
       "      <th>1</th>\n",
       "      <td>FX4186</td>\n",
       "      <td>249,99</td>\n",
       "    </tr>\n",
       "    <tr>\n",
       "      <th>2</th>\n",
       "      <td>H04465</td>\n",
       "      <td>379,99</td>\n",
       "    </tr>\n",
       "    <tr>\n",
       "      <th>3</th>\n",
       "      <td>H00470</td>\n",
       "      <td>269,99</td>\n",
       "    </tr>\n",
       "    <tr>\n",
       "      <th>4</th>\n",
       "      <td>H00466</td>\n",
       "      <td>269,99</td>\n",
       "    </tr>\n",
       "    <tr>\n",
       "      <th>...</th>\n",
       "      <td>...</td>\n",
       "      <td>...</td>\n",
       "    </tr>\n",
       "    <tr>\n",
       "      <th>969</th>\n",
       "      <td>VN0A38J9IJU1</td>\n",
       "      <td>199,99</td>\n",
       "    </tr>\n",
       "    <tr>\n",
       "      <th>970</th>\n",
       "      <td>VN000SUF56M1</td>\n",
       "      <td>49,99</td>\n",
       "    </tr>\n",
       "    <tr>\n",
       "      <th>971</th>\n",
       "      <td>VN000UDTDDU1</td>\n",
       "      <td>179,99</td>\n",
       "    </tr>\n",
       "    <tr>\n",
       "      <th>972</th>\n",
       "      <td>VN000KI51861</td>\n",
       "      <td>179,99</td>\n",
       "    </tr>\n",
       "    <tr>\n",
       "      <th>973</th>\n",
       "      <td>VN000SUF1581</td>\n",
       "      <td>49,99</td>\n",
       "    </tr>\n",
       "  </tbody>\n",
       "</table>\n",
       "<p>974 rows × 2 columns</p>\n",
       "</div>"
      ],
      "text/plain": [
       "          Article   Price\n",
       "0          FW6782  329,99\n",
       "1          FX4186  249,99\n",
       "2          H04465  379,99\n",
       "3          H00470  269,99\n",
       "4          H00466  269,99\n",
       "..            ...     ...\n",
       "969  VN0A38J9IJU1  199,99\n",
       "970  VN000SUF56M1   49,99\n",
       "971  VN000UDTDDU1  179,99\n",
       "972  VN000KI51861  179,99\n",
       "973  VN000SUF1581   49,99\n",
       "\n",
       "[974 rows x 2 columns]"
      ]
     },
     "execution_count": 35,
     "metadata": {},
     "output_type": "execute_result"
    }
   ],
   "source": [
    "data = scrap_50style(subpages=groups)"
   ]
  },
  {
   "cell_type": "code",
   "execution_count": 36,
   "id": "863f7547",
   "metadata": {},
   "outputs": [],
   "source": [
    "data.to_csv(\"50style.csv\",index = False)"
   ]
  }
 ],
 "metadata": {
  "kernelspec": {
   "display_name": "Python 3",
   "language": "python",
   "name": "python3"
  },
  "language_info": {
   "codemirror_mode": {
    "name": "ipython",
    "version": 3
   },
   "file_extension": ".py",
   "mimetype": "text/x-python",
   "name": "python",
   "nbconvert_exporter": "python",
   "pygments_lexer": "ipython3",
   "version": "3.8.8"
  }
 },
 "nbformat": 4,
 "nbformat_minor": 5
}
