{
 "cells": [
  {
   "cell_type": "markdown",
   "id": "c06fdf67",
   "metadata": {},
   "source": [
    "# Webscrapping from https://50style.pl/\n",
    "### Articels and prices from each subpage"
   ]
  },
  {
   "cell_type": "code",
   "execution_count": 147,
   "id": "c4c7fa9d",
   "metadata": {},
   "outputs": [],
   "source": [
    "from bs4 import BeautifulSoup\n",
    "import requests \n",
    "import pandas as pd\n",
    "from time import time"
   ]
  },
  {
   "cell_type": "code",
   "execution_count": 142,
   "id": "684999fb",
   "metadata": {},
   "outputs": [],
   "source": [
    "# sample main page with list of articles\n",
    "url = 'https://50style.pl/meskie/ubrania?sort=default&limit=180&page=1'"
   ]
  },
  {
   "cell_type": "code",
   "execution_count": 143,
   "id": "346bb1c4",
   "metadata": {},
   "outputs": [],
   "source": [
    "# get whole structure of data, and avoid getting blocked, by add headers parameter\n",
    "page = requests.get(url, headers = {'User-Agent': 'Mozilla/5.0'}) "
   ]
  },
  {
   "cell_type": "code",
   "execution_count": 151,
   "id": "7e4cb146",
   "metadata": {},
   "outputs": [
    {
     "data": {
      "text/plain": [
       "1.2440712451934814"
      ]
     },
     "execution_count": 151,
     "metadata": {},
     "output_type": "execute_result"
    }
   ],
   "source": [
    "# let parse our web page\n",
    "soup = BeautifulSoup(page.content)"
   ]
  },
  {
   "cell_type": "code",
   "execution_count": 156,
   "id": "bad37a49",
   "metadata": {},
   "outputs": [
    {
     "name": "stdout",
     "output_type": "stream",
     "text": [
      "91.9 calculation time in sec\n"
     ]
    }
   ],
   "source": [
    "# let load articels from main pages with links\n",
    "start = time() # start time\n",
    "\n",
    "pricelist = pd.DataFrame({\"Article\" : [],\n",
    "             \"Price\" : []})\n",
    "\n",
    "for product in soup.find_all(attrs = {'class': 'b-itemList_name'}):\n",
    "    link =\"https://50style.pl\" + product.find('a')['href']\n",
    "    \n",
    "    page1 = requests.get(link, headers = {'User-Agent': 'Mozilla/5.0'}) \n",
    "    soup1 = BeautifulSoup(page1.content)\n",
    "\n",
    "    index = soup1.find(attrs = {'class': \"m-accordion_productCode\"}).text\n",
    "    price = soup1.find(attrs = {'class': \"price-value\"}).text\n",
    "\n",
    "    pricelist = pricelist.append({'Article' : index,\n",
    "                   'Price' : price},\n",
    "                  ignore_index = True)\n",
    "    \n",
    "end = time()\n",
    "print(round(end - start,2), 'calculation time in sec')"
   ]
  },
  {
   "cell_type": "code",
   "execution_count": 157,
   "id": "449eeffe",
   "metadata": {},
   "outputs": [
    {
     "data": {
      "text/html": [
       "<div>\n",
       "<style scoped>\n",
       "    .dataframe tbody tr th:only-of-type {\n",
       "        vertical-align: middle;\n",
       "    }\n",
       "\n",
       "    .dataframe tbody tr th {\n",
       "        vertical-align: top;\n",
       "    }\n",
       "\n",
       "    .dataframe thead th {\n",
       "        text-align: right;\n",
       "    }\n",
       "</style>\n",
       "<table border=\"1\" class=\"dataframe\">\n",
       "  <thead>\n",
       "    <tr style=\"text-align: right;\">\n",
       "      <th></th>\n",
       "      <th>Article</th>\n",
       "      <th>Price</th>\n",
       "    </tr>\n",
       "  </thead>\n",
       "  <tbody>\n",
       "    <tr>\n",
       "      <th>0</th>\n",
       "      <td>UL321KUM16001</td>\n",
       "      <td>229,99</td>\n",
       "    </tr>\n",
       "    <tr>\n",
       "      <th>1</th>\n",
       "      <td>UL321KUM90002</td>\n",
       "      <td>249,99</td>\n",
       "    </tr>\n",
       "    <tr>\n",
       "      <th>2</th>\n",
       "      <td>LO321KUM01201</td>\n",
       "      <td>229,99</td>\n",
       "    </tr>\n",
       "    <tr>\n",
       "      <th>3</th>\n",
       "      <td>587689 44</td>\n",
       "      <td>349,99</td>\n",
       "    </tr>\n",
       "    <tr>\n",
       "      <th>4</th>\n",
       "      <td>GE5825</td>\n",
       "      <td>399,99</td>\n",
       "    </tr>\n",
       "    <tr>\n",
       "      <th>...</th>\n",
       "      <td>...</td>\n",
       "      <td>...</td>\n",
       "    </tr>\n",
       "    <tr>\n",
       "      <th>175</th>\n",
       "      <td>UP121TSM64001</td>\n",
       "      <td>89,99</td>\n",
       "    </tr>\n",
       "    <tr>\n",
       "      <th>176</th>\n",
       "      <td>UL121SPM39002</td>\n",
       "      <td>159,99</td>\n",
       "    </tr>\n",
       "    <tr>\n",
       "      <th>177</th>\n",
       "      <td>215855-0F1</td>\n",
       "      <td>99,99</td>\n",
       "    </tr>\n",
       "    <tr>\n",
       "      <th>178</th>\n",
       "      <td>215563-1CL</td>\n",
       "      <td>59,99</td>\n",
       "    </tr>\n",
       "    <tr>\n",
       "      <th>179</th>\n",
       "      <td>GL3259</td>\n",
       "      <td>79,99</td>\n",
       "    </tr>\n",
       "  </tbody>\n",
       "</table>\n",
       "<p>180 rows × 2 columns</p>\n",
       "</div>"
      ],
      "text/plain": [
       "           Article   Price\n",
       "0    UL321KUM16001  229,99\n",
       "1    UL321KUM90002  249,99\n",
       "2    LO321KUM01201  229,99\n",
       "3        587689 44  349,99\n",
       "4           GE5825  399,99\n",
       "..             ...     ...\n",
       "175  UP121TSM64001   89,99\n",
       "176  UL121SPM39002  159,99\n",
       "177     215855-0F1   99,99\n",
       "178     215563-1CL   59,99\n",
       "179         GL3259   79,99\n",
       "\n",
       "[180 rows x 2 columns]"
      ]
     },
     "execution_count": 157,
     "metadata": {},
     "output_type": "execute_result"
    }
   ],
   "source": [
    "pricelist"
   ]
  }
 ],
 "metadata": {
  "kernelspec": {
   "display_name": "Python 3",
   "language": "python",
   "name": "python3"
  },
  "language_info": {
   "codemirror_mode": {
    "name": "ipython",
    "version": 3
   },
   "file_extension": ".py",
   "mimetype": "text/x-python",
   "name": "python",
   "nbconvert_exporter": "python",
   "pygments_lexer": "ipython3",
   "version": "3.8.8"
  }
 },
 "nbformat": 4,
 "nbformat_minor": 5
}
