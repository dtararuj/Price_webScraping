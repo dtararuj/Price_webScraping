{
  "cells": [
    {
      "cell_type": "markdown",
      "id": "19254b8a",
      "metadata": {
        "id": "19254b8a"
      },
      "source": [
        "# Webscrapping from https://50style.pl/\n",
        "### Articels and prices from each subpage"
      ]
    },
    {
      "cell_type": "code",
      "execution_count": 1,
      "id": "c4c7fa9d",
      "metadata": {
        "id": "c4c7fa9d"
      },
      "outputs": [],
      "source": [
        "from bs4 import BeautifulSoup\n",
        "import requests \n",
        "import pandas as pd\n",
        "from time import time, sleep\n",
        "from datetime import datetime\n",
        "import random"
      ]
    },
    {
      "cell_type": "code",
      "execution_count": 2,
      "id": "17553fcd",
      "metadata": {
        "id": "17553fcd"
      },
      "outputs": [],
      "source": [
        "# list of free proxies \n",
        "proxies = [{\"http\": \"95.178.108.89\"},\n",
        "           {\"http\": \"95.178.108.189\"},\n",
        "           {\"http\": \"80.48.119.28\"},\n",
        "           {\"http\": \"192.166.255.200\"},\n",
        "           {\"http\": \"89.174.108.158\"},\n",
        "           {\"http\": \"193.106.231.145\"},\n",
        "           {\"http\": \"91.222.147.56\"},\n",
        "           {\"http\": \"77.65.163.170\"},\n",
        "           {\"http\": \"146.0.32.208\"},\n",
        "           {\"http\": \"144.76.116.242\"},\n",
        "           {\"http\": \"185.113.6.254\"},\n",
        "           {\"http\": \"176.9.75.42\"},\n",
        "           {\"http\": \"77.235.161.156\"},\n",
        "           {\"http\": \"173.249.39.131\"},\n",
        "           {\"http\": \"194.233.69.90\"}]"
      ]
    },
    {
      "cell_type": "code",
      "execution_count": 3,
      "id": "b87b00cc",
      "metadata": {
        "id": "b87b00cc"
      },
      "outputs": [],
      "source": [
        "headers = {\n",
        "    'Accept-Encoding': 'gzip, deflate, sdch',\n",
        "    'Accept-Language': 'en-US,en;q=0.8',\n",
        "    'Upgrade-Insecure-Requests': '1',\n",
        "    'User-Agent': 'Mozilla/5.0 (X11; Linux x86_64)',\n",
        "    'Accept': 'text/html,application/xhtml+xml,application/xml;q=0.9,image/webp,*/*;q=0.8',\n",
        "    'Cache-Control': 'max-age=0',\n",
        "    'Connection': 'keep-alive',\n",
        "}"
      ]
    },
    {
      "cell_type": "code",
      "execution_count": 18,
      "id": "6e57a07b",
      "metadata": {
        "id": "6e57a07b"
      },
      "outputs": [],
      "source": [
        "def scrap_50style(main_url = \"https://50style.pl/\", subpages = ['meskie','damskie', 'dzieciece']):\n",
        "    '''\n",
        "    main_url = main url adress without any subpages\n",
        "    subpages = list of subpages, ie = ['meskie','damskie', 'dzieciece'], to get 'https://50style.pl/dzieciece'\n",
        "    \n",
        "    '''\n",
        "    start = time() # start time\n",
        "    \n",
        "    session = requests.Session()\n",
        "    session.max_redirects = 60\n",
        "    cookies = dict(cookies_are='working')\n",
        "    \n",
        "    # empty dataframe to collect data\n",
        "    pricelist = pd.DataFrame({\"Article\" : [],\n",
        "                 \"Price\" : [],\n",
        "                 \"RRP\": []})\n",
        "\n",
        "    # iteration through each subpage\n",
        "    for id, subpage in enumerate(subpages):\n",
        "        for n in range(1,100):\n",
        "            \n",
        "            # iterate through each number of subpage\n",
        "            url = main_url + str(subpage) + '?sort=default&limit=180&page=' + str(n) \n",
        "\n",
        "            # get whole structure of data, and avoid getting blocked, by add headers parameter\n",
        "            page = session.get(url, headers = headers,cookies=cookies) \n",
        "\n",
        "            # let parse our web page\n",
        "            soup = BeautifulSoup(page.content)\n",
        "            \n",
        "            # iterate throug all products on one page\n",
        "            for product in soup.find_all(attrs = {'class': 'b-itemList_name'}):\n",
        "                link =\"https://50style.pl\" + product.find('a')['href']\n",
        "\n",
        "                # choose random proxy\n",
        "                proxy = random.choice(proxies)\n",
        "                \n",
        "                page1 = session.get(link, headers = headers,proxies = proxy, timeout = 98,cookies=cookies) \n",
        "                soup1 = BeautifulSoup(page1.content)\n",
        "\n",
        "                try:\n",
        "                  index = soup1.find(attrs = {'class': \"m-accordion_productCode\"}).text\n",
        "                  price = soup1.find(attrs = {'class': \"price-new\"}).find(attrs = {'class': \"price-value\"}).text\n",
        "                  rrp = soup1.find(attrs = {'class': \"price-old\"}).find(attrs = {'class': \"price-value\"}).text\n",
        "                except:\n",
        "                  continue\n",
        "                else:\n",
        "                  pricelist = pricelist.append({'Article' : index,\n",
        "                               'Price' : price,\n",
        "                               'Article' : index},\n",
        "                              ignore_index = True)\n",
        "\n",
        "                # sleep for one seconds after each link to avoid block\n",
        "                sleep(1)\n",
        "\n",
        "            # check if there is another subpage\n",
        "            next_page_no = soup.find(class_='m-pagination').find_all('span')[-1].text.replace('z ',\"\").strip()\n",
        "\n",
        "            if next_page_no == '':\n",
        "                break\n",
        "                \n",
        "            print(\"number of subpage: \", subpage, n)    \n",
        "            # sleep for a second to avoid block\n",
        "            sleep(1)\n",
        "\n",
        "    end = time()\n",
        "    print(round(end - start,2), 'calculation time in sec')\n",
        "    \n",
        "    return pricelist"
      ]
    },
    {
      "cell_type": "code",
      "execution_count": 33,
      "id": "570767fd",
      "metadata": {
        "id": "570767fd"
      },
      "outputs": [],
      "source": [
        "# if we want only specific brands\n",
        "groups = ['meskie/marki/feewear']"
      ]
    },
    {
      "cell_type": "code",
      "execution_count": 34,
      "id": "3db09cef",
      "metadata": {
        "scrolled": true,
        "id": "3db09cef",
        "colab": {
          "base_uri": "https://localhost:8080/",
          "height": 287
        },
        "outputId": "38eab1b1-6941-4c85-e2bb-5d71ba86b373"
      },
      "outputs": [
        {
          "output_type": "error",
          "ename": "KeyboardInterrupt",
          "evalue": "ignored",
          "traceback": [
            "\u001b[0;31m---------------------------------------------------------------------------\u001b[0m",
            "\u001b[0;31mKeyboardInterrupt\u001b[0m                         Traceback (most recent call last)",
            "\u001b[0;32m<ipython-input-34-6c7d1dc93f17>\u001b[0m in \u001b[0;36m<module>\u001b[0;34m()\u001b[0m\n\u001b[0;32m----> 1\u001b[0;31m \u001b[0mdata\u001b[0m \u001b[0;34m=\u001b[0m \u001b[0mscrap_50style\u001b[0m\u001b[0;34m(\u001b[0m\u001b[0msubpages\u001b[0m\u001b[0;34m=\u001b[0m\u001b[0mgroups\u001b[0m\u001b[0;34m)\u001b[0m\u001b[0;34m\u001b[0m\u001b[0;34m\u001b[0m\u001b[0m\n\u001b[0m",
            "\u001b[0;32m<ipython-input-18-c3f5d63b2b11>\u001b[0m in \u001b[0;36mscrap_50style\u001b[0;34m(main_url, subpages)\u001b[0m\n\u001b[1;32m     52\u001b[0m \u001b[0;34m\u001b[0m\u001b[0m\n\u001b[1;32m     53\u001b[0m                 \u001b[0;31m# sleep for one seconds after each link to avoid block\u001b[0m\u001b[0;34m\u001b[0m\u001b[0;34m\u001b[0m\u001b[0;34m\u001b[0m\u001b[0m\n\u001b[0;32m---> 54\u001b[0;31m                 \u001b[0msleep\u001b[0m\u001b[0;34m(\u001b[0m\u001b[0;36m1\u001b[0m\u001b[0;34m)\u001b[0m\u001b[0;34m\u001b[0m\u001b[0;34m\u001b[0m\u001b[0m\n\u001b[0m\u001b[1;32m     55\u001b[0m \u001b[0;34m\u001b[0m\u001b[0m\n\u001b[1;32m     56\u001b[0m             \u001b[0;31m# check if there is another subpage\u001b[0m\u001b[0;34m\u001b[0m\u001b[0;34m\u001b[0m\u001b[0;34m\u001b[0m\u001b[0m\n",
            "\u001b[0;31mKeyboardInterrupt\u001b[0m: "
          ]
        }
      ],
      "source": [
        "data = scrap_50style(subpages=groups)"
      ]
    },
    {
      "cell_type": "code",
      "source": [
        "data"
      ],
      "metadata": {
        "colab": {
          "base_uri": "https://localhost:8080/",
          "height": 424
        },
        "id": "u9X6ksvsEKc8",
        "outputId": "cae4c0c9-316c-459d-b94f-11ac904bed95"
      },
      "id": "u9X6ksvsEKc8",
      "execution_count": null,
      "outputs": [
        {
          "output_type": "execute_result",
          "data": {
            "text/html": [
              "\n",
              "  <div id=\"df-351492a0-3fa7-4967-b8fb-605ac267a1f4\">\n",
              "    <div class=\"colab-df-container\">\n",
              "      <div>\n",
              "<style scoped>\n",
              "    .dataframe tbody tr th:only-of-type {\n",
              "        vertical-align: middle;\n",
              "    }\n",
              "\n",
              "    .dataframe tbody tr th {\n",
              "        vertical-align: top;\n",
              "    }\n",
              "\n",
              "    .dataframe thead th {\n",
              "        text-align: right;\n",
              "    }\n",
              "</style>\n",
              "<table border=\"1\" class=\"dataframe\">\n",
              "  <thead>\n",
              "    <tr style=\"text-align: right;\">\n",
              "      <th></th>\n",
              "      <th>Article</th>\n",
              "      <th>Price</th>\n",
              "    </tr>\n",
              "  </thead>\n",
              "  <tbody>\n",
              "    <tr>\n",
              "      <th>0</th>\n",
              "      <td>CU4151-001</td>\n",
              "      <td>399,99</td>\n",
              "    </tr>\n",
              "    <tr>\n",
              "      <th>1</th>\n",
              "      <td>CU4826-001</td>\n",
              "      <td>499,99</td>\n",
              "    </tr>\n",
              "    <tr>\n",
              "      <th>2</th>\n",
              "      <td>CD4165-112</td>\n",
              "      <td>469,99</td>\n",
              "    </tr>\n",
              "    <tr>\n",
              "      <th>3</th>\n",
              "      <td>CU4151-004</td>\n",
              "      <td>379,99</td>\n",
              "    </tr>\n",
              "    <tr>\n",
              "      <th>4</th>\n",
              "      <td>DJ2003-100</td>\n",
              "      <td>469,99</td>\n",
              "    </tr>\n",
              "    <tr>\n",
              "      <th>...</th>\n",
              "      <td>...</td>\n",
              "      <td>...</td>\n",
              "    </tr>\n",
              "    <tr>\n",
              "      <th>68</th>\n",
              "      <td>CW4555-002</td>\n",
              "      <td>349,99</td>\n",
              "    </tr>\n",
              "    <tr>\n",
              "      <th>69</th>\n",
              "      <td>CK7583-109</td>\n",
              "      <td>419,99</td>\n",
              "    </tr>\n",
              "    <tr>\n",
              "      <th>70</th>\n",
              "      <td>CK7583-002</td>\n",
              "      <td>419,99</td>\n",
              "    </tr>\n",
              "    <tr>\n",
              "      <th>71</th>\n",
              "      <td>DD0443-600</td>\n",
              "      <td>419,99</td>\n",
              "    </tr>\n",
              "    <tr>\n",
              "      <th>72</th>\n",
              "      <td>CD6894-001</td>\n",
              "      <td>379,99</td>\n",
              "    </tr>\n",
              "  </tbody>\n",
              "</table>\n",
              "<p>73 rows × 2 columns</p>\n",
              "</div>\n",
              "      <button class=\"colab-df-convert\" onclick=\"convertToInteractive('df-351492a0-3fa7-4967-b8fb-605ac267a1f4')\"\n",
              "              title=\"Convert this dataframe to an interactive table.\"\n",
              "              style=\"display:none;\">\n",
              "        \n",
              "  <svg xmlns=\"http://www.w3.org/2000/svg\" height=\"24px\"viewBox=\"0 0 24 24\"\n",
              "       width=\"24px\">\n",
              "    <path d=\"M0 0h24v24H0V0z\" fill=\"none\"/>\n",
              "    <path d=\"M18.56 5.44l.94 2.06.94-2.06 2.06-.94-2.06-.94-.94-2.06-.94 2.06-2.06.94zm-11 1L8.5 8.5l.94-2.06 2.06-.94-2.06-.94L8.5 2.5l-.94 2.06-2.06.94zm10 10l.94 2.06.94-2.06 2.06-.94-2.06-.94-.94-2.06-.94 2.06-2.06.94z\"/><path d=\"M17.41 7.96l-1.37-1.37c-.4-.4-.92-.59-1.43-.59-.52 0-1.04.2-1.43.59L10.3 9.45l-7.72 7.72c-.78.78-.78 2.05 0 2.83L4 21.41c.39.39.9.59 1.41.59.51 0 1.02-.2 1.41-.59l7.78-7.78 2.81-2.81c.8-.78.8-2.07 0-2.86zM5.41 20L4 18.59l7.72-7.72 1.47 1.35L5.41 20z\"/>\n",
              "  </svg>\n",
              "      </button>\n",
              "      \n",
              "  <style>\n",
              "    .colab-df-container {\n",
              "      display:flex;\n",
              "      flex-wrap:wrap;\n",
              "      gap: 12px;\n",
              "    }\n",
              "\n",
              "    .colab-df-convert {\n",
              "      background-color: #E8F0FE;\n",
              "      border: none;\n",
              "      border-radius: 50%;\n",
              "      cursor: pointer;\n",
              "      display: none;\n",
              "      fill: #1967D2;\n",
              "      height: 32px;\n",
              "      padding: 0 0 0 0;\n",
              "      width: 32px;\n",
              "    }\n",
              "\n",
              "    .colab-df-convert:hover {\n",
              "      background-color: #E2EBFA;\n",
              "      box-shadow: 0px 1px 2px rgba(60, 64, 67, 0.3), 0px 1px 3px 1px rgba(60, 64, 67, 0.15);\n",
              "      fill: #174EA6;\n",
              "    }\n",
              "\n",
              "    [theme=dark] .colab-df-convert {\n",
              "      background-color: #3B4455;\n",
              "      fill: #D2E3FC;\n",
              "    }\n",
              "\n",
              "    [theme=dark] .colab-df-convert:hover {\n",
              "      background-color: #434B5C;\n",
              "      box-shadow: 0px 1px 3px 1px rgba(0, 0, 0, 0.15);\n",
              "      filter: drop-shadow(0px 1px 2px rgba(0, 0, 0, 0.3));\n",
              "      fill: #FFFFFF;\n",
              "    }\n",
              "  </style>\n",
              "\n",
              "      <script>\n",
              "        const buttonEl =\n",
              "          document.querySelector('#df-351492a0-3fa7-4967-b8fb-605ac267a1f4 button.colab-df-convert');\n",
              "        buttonEl.style.display =\n",
              "          google.colab.kernel.accessAllowed ? 'block' : 'none';\n",
              "\n",
              "        async function convertToInteractive(key) {\n",
              "          const element = document.querySelector('#df-351492a0-3fa7-4967-b8fb-605ac267a1f4');\n",
              "          const dataTable =\n",
              "            await google.colab.kernel.invokeFunction('convertToInteractive',\n",
              "                                                     [key], {});\n",
              "          if (!dataTable) return;\n",
              "\n",
              "          const docLinkHtml = 'Like what you see? Visit the ' +\n",
              "            '<a target=\"_blank\" href=https://colab.research.google.com/notebooks/data_table.ipynb>data table notebook</a>'\n",
              "            + ' to learn more about interactive tables.';\n",
              "          element.innerHTML = '';\n",
              "          dataTable['output_type'] = 'display_data';\n",
              "          await google.colab.output.renderOutput(dataTable, element);\n",
              "          const docLink = document.createElement('div');\n",
              "          docLink.innerHTML = docLinkHtml;\n",
              "          element.appendChild(docLink);\n",
              "        }\n",
              "      </script>\n",
              "    </div>\n",
              "  </div>\n",
              "  "
            ],
            "text/plain": [
              "       Article   Price\n",
              "0   CU4151-001  399,99\n",
              "1   CU4826-001  499,99\n",
              "2   CD4165-112  469,99\n",
              "3   CU4151-004  379,99\n",
              "4   DJ2003-100  469,99\n",
              "..         ...     ...\n",
              "68  CW4555-002  349,99\n",
              "69  CK7583-109  419,99\n",
              "70  CK7583-002  419,99\n",
              "71  DD0443-600  419,99\n",
              "72  CD6894-001  379,99\n",
              "\n",
              "[73 rows x 2 columns]"
            ]
          },
          "metadata": {},
          "execution_count": 66
        }
      ]
    },
    {
      "cell_type": "code",
      "execution_count": 7,
      "id": "0fa64aad",
      "metadata": {
        "id": "0fa64aad"
      },
      "outputs": [],
      "source": [
        "today = datetime.today().strftime('%Y-%m-%d')\n",
        "data.to_csv(\"50style_\" + today + \".csv\",index = False)"
      ]
    },
    {
      "cell_type": "code",
      "source": [
        ""
      ],
      "metadata": {
        "id": "nNihaIG65KfB"
      },
      "id": "nNihaIG65KfB",
      "execution_count": null,
      "outputs": []
    }
  ],
  "metadata": {
    "kernelspec": {
      "display_name": "Python 3",
      "language": "python",
      "name": "python3"
    },
    "language_info": {
      "codemirror_mode": {
        "name": "ipython",
        "version": 3
      },
      "file_extension": ".py",
      "mimetype": "text/x-python",
      "name": "python",
      "nbconvert_exporter": "python",
      "pygments_lexer": "ipython3",
      "version": "3.8.8"
    },
    "colab": {
      "name": "50stylePrices2.ipynb",
      "provenance": []
    }
  },
  "nbformat": 4,
  "nbformat_minor": 5
}