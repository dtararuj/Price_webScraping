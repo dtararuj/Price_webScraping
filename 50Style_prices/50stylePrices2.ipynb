{
  "cells": [
    {
      "cell_type": "markdown",
      "id": "19254b8a",
      "metadata": {
        "id": "19254b8a"
      },
      "source": [
        "# Webscrapping from https://50style.pl/\n",
        "### Articels and prices from each subpage"
      ]
    },
    {
      "cell_type": "code",
      "execution_count": 1,
      "id": "c4c7fa9d",
      "metadata": {
        "id": "c4c7fa9d"
      },
      "outputs": [],
      "source": [
        "from bs4 import BeautifulSoup\n",
        "import requests \n",
        "import pandas as pd\n",
        "from time import time, sleep\n",
        "from datetime import datetime\n",
        "import random"
      ]
    },
    {
      "cell_type": "code",
      "execution_count": 2,
      "id": "17553fcd",
      "metadata": {
        "id": "17553fcd"
      },
      "outputs": [],
      "source": [
        "# list of free proxies \n",
        "proxies = [{\"http\": \"95.178.108.89\"},\n",
        "           {\"http\": \"95.178.108.189\"},\n",
        "           {\"http\": \"80.48.119.28\"},\n",
        "           {\"http\": \"192.166.255.200\"},\n",
        "           {\"http\": \"89.174.108.158\"},\n",
        "           {\"http\": \"193.106.231.145\"},\n",
        "           {\"http\": \"91.222.147.56\"},\n",
        "           {\"http\": \"77.65.163.170\"},\n",
        "           {\"http\": \"146.0.32.208\"},\n",
        "           {\"http\": \"144.76.116.242\"},\n",
        "           {\"http\": \"185.113.6.254\"},\n",
        "           {\"http\": \"176.9.75.42\"},\n",
        "           {\"http\": \"77.235.161.156\"},\n",
        "           {\"http\": \"173.249.39.131\"},\n",
        "           {\"http\": \"194.233.69.90\"}]"
      ]
    },
    {
      "cell_type": "code",
      "execution_count": 3,
      "id": "b87b00cc",
      "metadata": {
        "id": "b87b00cc"
      },
      "outputs": [],
      "source": [
        "headers = {\n",
        "    'Accept-Encoding': 'gzip, deflate, sdch',\n",
        "    'Accept-Language': 'en-US,en;q=0.8',\n",
        "    'Upgrade-Insecure-Requests': '1',\n",
        "    'User-Agent': 'Mozilla/5.0 (X11; Linux x86_64)',\n",
        "    'Accept': 'text/html,application/xhtml+xml,application/xml;q=0.9,image/webp,*/*;q=0.8',\n",
        "    'Cache-Control': 'max-age=0',\n",
        "    'Connection': 'keep-alive',\n",
        "}"
      ]
    },
    {
      "cell_type": "code",
      "execution_count": 9,
      "id": "6e57a07b",
      "metadata": {
        "id": "6e57a07b"
      },
      "outputs": [],
      "source": [
        "def scrap_50style(main_url = \"https://50style.pl/\", subpages = ['meskie','damskie', 'dzieciece']):\n",
        "    '''\n",
        "    main_url = main url adress without any subpages\n",
        "    subpages = list of subpages, ie = ['meskie','damskie', 'dzieciece'], to get 'https://50style.pl/dzieciece'\n",
        "    \n",
        "    '''\n",
        "    start = time() # start time\n",
        "    \n",
        "    session = requests.Session()\n",
        "    session.max_redirects = 60\n",
        "    cookies = dict(cookies_are='working')\n",
        "    \n",
        "    # empty dataframe to collect data\n",
        "    pricelist = pd.DataFrame({\"Article\" : [],\n",
        "                 \"Price\" : [],\n",
        "                 \"RRP\": []})\n",
        "\n",
        "    # iteration through each subpage\n",
        "    for id, subpage in enumerate(subpages):\n",
        "        for n in range(1,100):\n",
        "            \n",
        "            # iterate through each number of subpage\n",
        "            url = main_url + str(subpage) + '?sort=default&limit=180&page=' + str(n) \n",
        "\n",
        "            # get whole structure of data, and avoid getting blocked, by add headers parameter\n",
        "            page = session.get(url, headers = headers,cookies=cookies) \n",
        "\n",
        "            # let parse our web page\n",
        "            soup = BeautifulSoup(page.content)\n",
        "            \n",
        "            # iterate throug all products on one page\n",
        "            for product in soup.find_all(attrs = {'class': 'b-itemList_name'}):\n",
        "                link =\"https://50style.pl\" + product.find('a')['href']\n",
        "\n",
        "                # choose random proxy\n",
        "                proxy = random.choice(proxies)\n",
        "                \n",
        "                page1 = session.get(link, headers = headers,proxies = proxy, timeout = 98,cookies=cookies) \n",
        "                soup1 = BeautifulSoup(page1.content)\n",
        "\n",
        "                try:\n",
        "                  index = soup1.find(attrs = {'class': \"m-accordion_productCode\"}).text\n",
        "                  price = soup1.find(attrs = {'class': \"price-new\"}).find(attrs = {'class': \"price-value\"}).text\n",
        "                  rrp = soup1.find(attrs = {'class': \"price-old\"}).find(attrs = {'class': \"price-value\"}).text\n",
        "                except:\n",
        "                  continue\n",
        "                else:\n",
        "                  pricelist = pricelist.append({'Article' : index,\n",
        "                               'Price' : price,\n",
        "                               'RRP' : rrp},\n",
        "                              ignore_index = True)\n",
        "\n",
        "                # sleep for one seconds after each link to avoid block\n",
        "                sleep(1)\n",
        "\n",
        "            # check if there is another subpage\n",
        "            next_page_no = soup.find(class_='m-pagination').find_all('span')[-1].text.replace('z ',\"\").strip()\n",
        "\n",
        "            if next_page_no == '':\n",
        "                break\n",
        "                \n",
        "            print(\"number of subpage: \", subpage, n)    \n",
        "            # sleep for a second to avoid block\n",
        "            sleep(1)\n",
        "\n",
        "    end = time()\n",
        "    print(round(end - start,2), 'calculation time in sec')\n",
        "    \n",
        "    return pricelist"
      ]
    },
    {
      "cell_type": "code",
      "execution_count": 10,
      "id": "570767fd",
      "metadata": {
        "id": "570767fd"
      },
      "outputs": [],
      "source": [
        "# if we want only specific brands\n",
        "groups = ['buty']"
      ]
    },
    {
      "cell_type": "code",
      "execution_count": 11,
      "id": "3db09cef",
      "metadata": {
        "scrolled": true,
        "id": "3db09cef",
        "colab": {
          "base_uri": "https://localhost:8080/"
        },
        "outputId": "328a283f-cea8-4360-9598-255bc8d33d7f"
      },
      "outputs": [
        {
          "output_type": "stream",
          "name": "stdout",
          "text": [
            "number of subpage:  buty 1\n",
            "number of subpage:  buty 2\n",
            "number of subpage:  buty 3\n",
            "number of subpage:  buty 4\n",
            "number of subpage:  buty 5\n",
            "number of subpage:  buty 6\n",
            "number of subpage:  buty 7\n",
            "4493.56 calculation time in sec\n"
          ]
        }
      ],
      "source": [
        "data = scrap_50style(subpages=groups)"
      ]
    },
    {
      "cell_type": "code",
      "source": [
        "data"
      ],
      "metadata": {
        "colab": {
          "base_uri": "https://localhost:8080/",
          "height": 424
        },
        "id": "u9X6ksvsEKc8",
        "outputId": "0880e41c-a5b1-4a42-c19f-8b04822f4410"
      },
      "id": "u9X6ksvsEKc8",
      "execution_count": 12,
      "outputs": [
        {
          "output_type": "execute_result",
          "data": {
            "text/html": [
              "\n",
              "  <div id=\"df-e06726e0-331b-4886-aa5a-df17eefd4843\">\n",
              "    <div class=\"colab-df-container\">\n",
              "      <div>\n",
              "<style scoped>\n",
              "    .dataframe tbody tr th:only-of-type {\n",
              "        vertical-align: middle;\n",
              "    }\n",
              "\n",
              "    .dataframe tbody tr th {\n",
              "        vertical-align: top;\n",
              "    }\n",
              "\n",
              "    .dataframe thead th {\n",
              "        text-align: right;\n",
              "    }\n",
              "</style>\n",
              "<table border=\"1\" class=\"dataframe\">\n",
              "  <thead>\n",
              "    <tr style=\"text-align: right;\">\n",
              "      <th></th>\n",
              "      <th>Article</th>\n",
              "      <th>Price</th>\n",
              "      <th>RRP</th>\n",
              "    </tr>\n",
              "  </thead>\n",
              "  <tbody>\n",
              "    <tr>\n",
              "      <th>0</th>\n",
              "      <td>FX9323</td>\n",
              "      <td>343,99</td>\n",
              "      <td>399,99</td>\n",
              "    </tr>\n",
              "    <tr>\n",
              "      <th>1</th>\n",
              "      <td>UMJKO220003</td>\n",
              "      <td>120,39</td>\n",
              "      <td>159,99</td>\n",
              "    </tr>\n",
              "    <tr>\n",
              "      <th>2</th>\n",
              "      <td>UPJIO220002</td>\n",
              "      <td>85,99</td>\n",
              "      <td>159,99</td>\n",
              "    </tr>\n",
              "    <tr>\n",
              "      <th>3</th>\n",
              "      <td>UPJIO220003</td>\n",
              "      <td>85,99</td>\n",
              "      <td>179,99</td>\n",
              "    </tr>\n",
              "    <tr>\n",
              "      <th>4</th>\n",
              "      <td>UPWO221003</td>\n",
              "      <td>137,59</td>\n",
              "      <td>259,99</td>\n",
              "    </tr>\n",
              "    <tr>\n",
              "      <th>...</th>\n",
              "      <td>...</td>\n",
              "      <td>...</td>\n",
              "      <td>...</td>\n",
              "    </tr>\n",
              "    <tr>\n",
              "      <th>1262</th>\n",
              "      <td>81546U-C44</td>\n",
              "      <td>77,39</td>\n",
              "      <td>199,99</td>\n",
              "    </tr>\n",
              "    <tr>\n",
              "      <th>1263</th>\n",
              "      <td>T3452</td>\n",
              "      <td>49,99</td>\n",
              "      <td>199,99</td>\n",
              "    </tr>\n",
              "    <tr>\n",
              "      <th>1264</th>\n",
              "      <td>81553U-JC8</td>\n",
              "      <td>79,99</td>\n",
              "      <td>199,99</td>\n",
              "    </tr>\n",
              "    <tr>\n",
              "      <th>1265</th>\n",
              "      <td>T3428</td>\n",
              "      <td>49,99</td>\n",
              "      <td>199,99</td>\n",
              "    </tr>\n",
              "    <tr>\n",
              "      <th>1266</th>\n",
              "      <td>S7195</td>\n",
              "      <td>42,99</td>\n",
              "      <td>169,99</td>\n",
              "    </tr>\n",
              "  </tbody>\n",
              "</table>\n",
              "<p>1267 rows × 3 columns</p>\n",
              "</div>\n",
              "      <button class=\"colab-df-convert\" onclick=\"convertToInteractive('df-e06726e0-331b-4886-aa5a-df17eefd4843')\"\n",
              "              title=\"Convert this dataframe to an interactive table.\"\n",
              "              style=\"display:none;\">\n",
              "        \n",
              "  <svg xmlns=\"http://www.w3.org/2000/svg\" height=\"24px\"viewBox=\"0 0 24 24\"\n",
              "       width=\"24px\">\n",
              "    <path d=\"M0 0h24v24H0V0z\" fill=\"none\"/>\n",
              "    <path d=\"M18.56 5.44l.94 2.06.94-2.06 2.06-.94-2.06-.94-.94-2.06-.94 2.06-2.06.94zm-11 1L8.5 8.5l.94-2.06 2.06-.94-2.06-.94L8.5 2.5l-.94 2.06-2.06.94zm10 10l.94 2.06.94-2.06 2.06-.94-2.06-.94-.94-2.06-.94 2.06-2.06.94z\"/><path d=\"M17.41 7.96l-1.37-1.37c-.4-.4-.92-.59-1.43-.59-.52 0-1.04.2-1.43.59L10.3 9.45l-7.72 7.72c-.78.78-.78 2.05 0 2.83L4 21.41c.39.39.9.59 1.41.59.51 0 1.02-.2 1.41-.59l7.78-7.78 2.81-2.81c.8-.78.8-2.07 0-2.86zM5.41 20L4 18.59l7.72-7.72 1.47 1.35L5.41 20z\"/>\n",
              "  </svg>\n",
              "      </button>\n",
              "      \n",
              "  <style>\n",
              "    .colab-df-container {\n",
              "      display:flex;\n",
              "      flex-wrap:wrap;\n",
              "      gap: 12px;\n",
              "    }\n",
              "\n",
              "    .colab-df-convert {\n",
              "      background-color: #E8F0FE;\n",
              "      border: none;\n",
              "      border-radius: 50%;\n",
              "      cursor: pointer;\n",
              "      display: none;\n",
              "      fill: #1967D2;\n",
              "      height: 32px;\n",
              "      padding: 0 0 0 0;\n",
              "      width: 32px;\n",
              "    }\n",
              "\n",
              "    .colab-df-convert:hover {\n",
              "      background-color: #E2EBFA;\n",
              "      box-shadow: 0px 1px 2px rgba(60, 64, 67, 0.3), 0px 1px 3px 1px rgba(60, 64, 67, 0.15);\n",
              "      fill: #174EA6;\n",
              "    }\n",
              "\n",
              "    [theme=dark] .colab-df-convert {\n",
              "      background-color: #3B4455;\n",
              "      fill: #D2E3FC;\n",
              "    }\n",
              "\n",
              "    [theme=dark] .colab-df-convert:hover {\n",
              "      background-color: #434B5C;\n",
              "      box-shadow: 0px 1px 3px 1px rgba(0, 0, 0, 0.15);\n",
              "      filter: drop-shadow(0px 1px 2px rgba(0, 0, 0, 0.3));\n",
              "      fill: #FFFFFF;\n",
              "    }\n",
              "  </style>\n",
              "\n",
              "      <script>\n",
              "        const buttonEl =\n",
              "          document.querySelector('#df-e06726e0-331b-4886-aa5a-df17eefd4843 button.colab-df-convert');\n",
              "        buttonEl.style.display =\n",
              "          google.colab.kernel.accessAllowed ? 'block' : 'none';\n",
              "\n",
              "        async function convertToInteractive(key) {\n",
              "          const element = document.querySelector('#df-e06726e0-331b-4886-aa5a-df17eefd4843');\n",
              "          const dataTable =\n",
              "            await google.colab.kernel.invokeFunction('convertToInteractive',\n",
              "                                                     [key], {});\n",
              "          if (!dataTable) return;\n",
              "\n",
              "          const docLinkHtml = 'Like what you see? Visit the ' +\n",
              "            '<a target=\"_blank\" href=https://colab.research.google.com/notebooks/data_table.ipynb>data table notebook</a>'\n",
              "            + ' to learn more about interactive tables.';\n",
              "          element.innerHTML = '';\n",
              "          dataTable['output_type'] = 'display_data';\n",
              "          await google.colab.output.renderOutput(dataTable, element);\n",
              "          const docLink = document.createElement('div');\n",
              "          docLink.innerHTML = docLinkHtml;\n",
              "          element.appendChild(docLink);\n",
              "        }\n",
              "      </script>\n",
              "    </div>\n",
              "  </div>\n",
              "  "
            ],
            "text/plain": [
              "          Article   Price     RRP\n",
              "0          FX9323  343,99  399,99\n",
              "1     UMJKO220003  120,39  159,99\n",
              "2     UPJIO220002   85,99  159,99\n",
              "3     UPJIO220003   85,99  179,99\n",
              "4      UPWO221003  137,59  259,99\n",
              "...           ...     ...     ...\n",
              "1262   81546U-C44   77,39  199,99\n",
              "1263        T3452   49,99  199,99\n",
              "1264   81553U-JC8   79,99  199,99\n",
              "1265        T3428   49,99  199,99\n",
              "1266        S7195   42,99  169,99\n",
              "\n",
              "[1267 rows x 3 columns]"
            ]
          },
          "metadata": {},
          "execution_count": 12
        }
      ]
    },
    {
      "cell_type": "code",
      "execution_count": 13,
      "id": "0fa64aad",
      "metadata": {
        "id": "0fa64aad"
      },
      "outputs": [],
      "source": [
        "today = datetime.today().strftime('%Y-%m-%d')\n",
        "data.to_csv(\"50style_\" + today + \".csv\",index = False)"
      ]
    },
    {
      "cell_type": "code",
      "source": [
        ""
      ],
      "metadata": {
        "id": "nNihaIG65KfB"
      },
      "id": "nNihaIG65KfB",
      "execution_count": null,
      "outputs": []
    }
  ],
  "metadata": {
    "kernelspec": {
      "display_name": "Python 3",
      "language": "python",
      "name": "python3"
    },
    "language_info": {
      "codemirror_mode": {
        "name": "ipython",
        "version": 3
      },
      "file_extension": ".py",
      "mimetype": "text/x-python",
      "name": "python",
      "nbconvert_exporter": "python",
      "pygments_lexer": "ipython3",
      "version": "3.8.8"
    },
    "colab": {
      "name": "50stylePrices2.ipynb",
      "provenance": []
    }
  },
  "nbformat": 4,
  "nbformat_minor": 5
}