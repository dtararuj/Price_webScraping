{
  "nbformat": 4,
  "nbformat_minor": 0,
  "metadata": {
    "colab": {
      "name": "eobuwiePrices.ipynb",
      "provenance": [],
      "collapsed_sections": [],
      "authorship_tag": "ABX9TyMwpbfzsIGWFNPhjFyPyJZQ"
    },
    "kernelspec": {
      "name": "python3",
      "display_name": "Python 3"
    },
    "language_info": {
      "name": "python"
    }
  },
  "cells": [
    {
      "cell_type": "code",
      "execution_count": 66,
      "metadata": {
        "id": "bA6VfTSWKytz"
      },
      "outputs": [],
      "source": [
        "from bs4 import BeautifulSoup\n",
        "import requests \n",
        "import pandas as pd\n",
        "from time import time, sleep\n",
        "from datetime import datetime\n",
        "import random\n",
        "import base64\n",
        "from requests.packages.urllib3.util.retry import Retry\n",
        "from requests.adapters import HTTPAdapter"
      ]
    },
    {
      "cell_type": "code",
      "source": [
        "link = 'https://www.eobuwie.com.pl/oferta'"
      ],
      "metadata": {
        "id": "EUXBJX0UMNhj"
      },
      "execution_count": 2,
      "outputs": []
    },
    {
      "cell_type": "code",
      "source": [
        "page = requests.get(link)"
      ],
      "metadata": {
        "id": "46fnwrZHMNkO"
      },
      "execution_count": 3,
      "outputs": []
    },
    {
      "cell_type": "code",
      "source": [
        "soup = BeautifulSoup(page.content)"
      ],
      "metadata": {
        "id": "1QZB_ck7MNo4"
      },
      "execution_count": 4,
      "outputs": []
    },
    {
      "cell_type": "code",
      "source": [
        "link_article = soup.find(attrs =  {\"class\": \"products-list__link\"})['href'][2:]\n"
      ],
      "metadata": {
        "id": "SaZOH3v0MNqz"
      },
      "execution_count": null,
      "outputs": []
    },
    {
      "cell_type": "code",
      "source": [
        "for i in soup.find_all(attrs =  {\"class\": \"products-list__link\"}):\n",
        "  try:\n",
        "    i['href'][2:]\n",
        "  except:\n",
        "    continue\n",
        "  "
      ],
      "metadata": {
        "id": "0GiDhpQ1G10r"
      },
      "execution_count": null,
      "outputs": []
    },
    {
      "cell_type": "code",
      "source": [
        "soup.find_all(attrs =  {\"class\": \"products-list__link\"})[11]['href'][2:]\n"
      ],
      "metadata": {
        "colab": {
          "base_uri": "https://localhost:8080/",
          "height": 35
        },
        "id": "8-QMzvagV3TH",
        "outputId": "1a8bdddb-d1cb-4c8b-aedc-e46635258e0e"
      },
      "execution_count": null,
      "outputs": [
        {
          "output_type": "execute_result",
          "data": {
            "application/vnd.google.colaboratory.intrinsic+json": {
              "type": "string"
            },
            "text/plain": [
              "'www.eobuwie.com.pl/sneakersy-skechers-subtle-spots-155616-bbk-black.html'"
            ]
          },
          "metadata": {},
          "execution_count": 467
        }
      ]
    },
    {
      "cell_type": "code",
      "source": [
        "# testowo dowolny inny artykul\n",
        "\n",
        "link_article = \"www.eobuwie.com.pl/sneakersy-puma-rose-raw-metallics-383849-03-pristine-rose-gold.html\""
      ],
      "metadata": {
        "id": "vrUYZY2Gln0y"
      },
      "execution_count": null,
      "outputs": []
    },
    {
      "cell_type": "code",
      "source": [
        "page_article = requests.get(\"http://\" + link_article)"
      ],
      "metadata": {
        "id": "QZ7HXmi3MNxq"
      },
      "execution_count": null,
      "outputs": []
    },
    {
      "cell_type": "code",
      "source": [
        "soup_article = BeautifulSoup(page_article.content)"
      ],
      "metadata": {
        "id": "fxx8lWsGMN2V"
      },
      "execution_count": null,
      "outputs": []
    },
    {
      "cell_type": "code",
      "source": [
        "try:\n",
        "   RRP = soup_article.find(attrs = {\"class\" : \"e-product-price__group\"}).find(attrs = {\"class\" : \"e-product-price__regular\"}).text.strip().replace('\\xa0zł',\"\")\n",
        "except:\n",
        "  RRP = soup_article.find(attrs = {\"class\" : \"e-product-price__normal\"}).text.strip().replace('\\xa0zł',\"\")\n",
        "#  else:\n",
        " #  soup_article.find(attrs = {\"class\" : \"e-product-price__normal\"}).text.strip().replace('\\xa0zł',\"\")\n"
      ],
      "metadata": {
        "id": "ru6tFbLyQNjQ"
      },
      "execution_count": null,
      "outputs": []
    },
    {
      "cell_type": "code",
      "source": [
        "soup_article.find(attrs = {\"class\" : \"e-product-price__group\"})"
      ],
      "metadata": {
        "id": "YUWffRvnuLqo"
      },
      "execution_count": null,
      "outputs": []
    },
    {
      "cell_type": "code",
      "source": [
        "try:\n",
        "  PRICE = soup_article.find(attrs = {\"class\" : \"e-product-price__group\"}).find(attrs = {\"class\" : \"e-product-price__special\"}).text.strip().replace('\\xa0zł',\"\")\n",
        "except:\n",
        "  PRICE = RRP\n",
        "else:\n",
        "  PRICE = RRP"
      ],
      "metadata": {
        "id": "93hmj9i_Rj_s"
      },
      "execution_count": null,
      "outputs": []
    },
    {
      "cell_type": "code",
      "source": [
        "NAZWA = soup_article.find(\"meta\" ,property=\"product:mfr_part_no\")[\"content\"]"
      ],
      "metadata": {
        "id": "mA2EphBWlZ7S"
      },
      "execution_count": null,
      "outputs": []
    },
    {
      "cell_type": "code",
      "source": [
        "RRP, PRICE, NAZWA"
      ],
      "metadata": {
        "colab": {
          "base_uri": "https://localhost:8080/"
        },
        "id": "oO2dBVBSlZ9o",
        "outputId": "a7dccf5c-1a9d-4ec7-a8cd-34a9011d13cd"
      },
      "execution_count": null,
      "outputs": [
        {
          "output_type": "execute_result",
          "data": {
            "text/plain": [
              "('269,99', '269,99', 'Rose Raw Metallics 383849 03')"
            ]
          },
          "metadata": {},
          "execution_count": 245
        }
      ]
    },
    {
      "cell_type": "code",
      "source": [
        "###### automated code"
      ],
      "metadata": {
        "id": "OiyH8yYpCNTt"
      },
      "execution_count": null,
      "outputs": []
    },
    {
      "cell_type": "code",
      "source": [
        "# get free IP's from Poland\n",
        "ip_link = 'http://free-proxy.cz/en/proxylist/main/2'\n",
        "ip_page = requests.get(ip_link)\n",
        "soup_ip = BeautifulSoup(ip_page.content)\n"
      ],
      "metadata": {
        "id": "yk6ePXUolaAD"
      },
      "execution_count": 44,
      "outputs": []
    },
    {
      "cell_type": "code",
      "source": [
        "# get table from website\n",
        "data = []\n",
        "\n",
        "table = soup_ip.find('table',{'id': 'proxy_list'})\n",
        "rows = table.find_all('tr')\n",
        "\n",
        "for row in rows:\n",
        "    cols = row.find_all('td')\n",
        "    cols = [ele.text.strip() for ele in cols]\n",
        "    data.append([ele for ele in cols if ele]) # Get rid of empty values"
      ],
      "metadata": {
        "id": "LlFIZh3DlaE8"
      },
      "execution_count": 45,
      "outputs": []
    },
    {
      "cell_type": "code",
      "source": [
        "# get only ip number in a list\n",
        "ip_list = []\n",
        "\n",
        "# ip on this side are decoded, so we have encode them\n",
        "for i in data:\n",
        "  try:\n",
        "    decoded = i[0].replace(\"document.write(Base64.decode(\",\"\").replace(\"))\",\"\")  \n",
        "    encoded = base64.b64decode(decoded).decode()\n",
        "    ip_list.append(encoded)\n",
        "  except:\n",
        "    continue"
      ],
      "metadata": {
        "id": "gIxDrOel7TKm"
      },
      "execution_count": 46,
      "outputs": []
    },
    {
      "cell_type": "code",
      "source": [
        "# list of free proxies\n",
        "proxies = []\n",
        "for ip in ip_list:\n",
        "  x = {\"http\": ip}\n",
        "  proxies.append(x)"
      ],
      "metadata": {
        "id": "F9c51Al-7cce"
      },
      "execution_count": 5,
      "outputs": []
    },
    {
      "cell_type": "code",
      "source": [
        "# list of free proxies \n",
        "proxies = [{'http': '95.178.108.189'},\n",
        "          {'http': '80.48.119.28'},\n",
        "          {'http': '79.133.202.7'},\n",
        "          {'http': '185.237.20.218'},\n",
        "          {'http': '91.211.100.35'},\n",
        "          {'http': '83.168.84.82'},\n",
        "          {'http': '78.133.163.190'},\n",
        "          {'http': '195.205.33.237'},\n",
        "          {'http': '80.54.62.254'},\n",
        "          {'http': '185.89.65.170'},\n",
        "          {'http': '178.212.48.70'},\n",
        "          {'http': '185.14.149.178'},\n",
        "          {'http': '185.21.39.42'},\n",
        "          {'http': '195.136.186.17'},\n",
        "          {'http': '176.58.17.1'},\n",
        "          {'http': '178.212.48.23'},\n",
        "          {'http': '185.56.246.76'},\n",
        "          {'http': '185.179.132.152'},\n",
        "          {'http': '91.207.68.197'},\n",
        "          {'http': '91.246.213.104'},\n",
        "          {'http': '176.58.20.226'},\n",
        "          {'http': '178.212.48.17'},\n",
        "          {'http': '91.150.189.122'},\n",
        "          {'http': '85.128.16.50'},\n",
        "          {'http': '156.67.107.79'},\n",
        "          {'http': '91.227.103.134'},\n",
        "          {'http': '89.186.1.172'},\n",
        "          {'http': '178.212.54.137'},\n",
        "          {'http': '37.98.218.137'},\n",
        "          {'http': '85.128.16.163'},\n",
        "          {'http': '89.186.17.82'},\n",
        "          {'http': '185.122.144.144'},\n",
        "          {'http': '91.238.55.86'},\n",
        "          {'http': '176.103.74.89'},\n",
        "          {'http': '193.59.46.199'},\n",
        "          {'http': '94.230.27.58'},\n",
        "          {'http': '91.202.230.219'},\n",
        "          {'http': '46.227.37.149'},\n",
        "          {'http': '37.131.164.102'},\n",
        "          {'http': '185.89.65.165'},\n",
        "          {'http': '83.12.174.202'},\n",
        "          {'http': '80.53.255.194'},\n",
        "          {'http': '193.106.130.35'},\n",
        "          {'http': '46.171.28.162'},\n",
        "          {'http': '83.168.84.89'},\n",
        "          {'http': '91.224.197.180'},\n",
        "          {'http': '77.252.26.70'},\n",
        "          {'http': '193.59.27.203'},\n",
        "          {'http': '46.238.230.4'},\n",
        "          {'http': '94.240.10.115'},\n",
        "          {'http': '93.113.101.85'},\n",
        "          {'http': '94.240.29.203'},\n",
        "          {'http': '212.180.252.34'},\n",
        "          {'http': '194.31.33.50'},\n",
        "          {'http': '91.205.72.103'},\n",
        "          {'http': '83.238.13.109'},\n",
        "          {'http': '89.171.144.168'},\n",
        "          {'http': '80.48.255.145'},\n",
        "          {'http': '83.168.84.137'},\n",
        "          {'http': '5.226.125.10'},\n",
        "          {'http': '83.168.84.141'},\n",
        "          {'http': '83.168.84.142'},\n",
        "          {'http': '185.46.170.253'},\n",
        "          {'http': '91.216.254.5'},\n",
        "          {'http': '89.228.128.216'},\n",
        "          {'http': '46.174.235.37'},\n",
        "          {'http': '46.174.235.235'},\n",
        "          {'http': '185.238.239.55'},\n",
        "          {'http': '185.32.6.129'},\n",
        "          {'http': '195.177.217.131'},\n",
        "          {'http': '185.89.64.17'},\n",
        "          {'http': '78.133.186.5'},\n",
        "          {'http': '176.58.20.54'},\n",
        "          {'http': '79.133.200.147'},\n",
        "          {'http': '193.239.101.7'},\n",
        "          {'http': '193.59.26.138'},\n",
        "          {'http': '195.242.138.20'},\n",
        "          {'http': '178.216.24.80'},\n",
        "          {'http': '78.31.159.227'},\n",
        "          {'http': '93.105.40.62'},\n",
        "          {'http': '178.19.179.30'},\n",
        "          {'http': '91.226.51.200'},\n",
        "          {'http': '5.172.188.90'},\n",
        "          {'http': '62.133.135.129'},\n",
        "          {'http': '93.105.171.100'},\n",
        "          {'http': '178.212.52.67'},\n",
        "          {'http': '46.174.234.32'},\n",
        "          {'http': '91.234.127.222'},\n",
        "          {'http': '5.226.92.74'},\n",
        "          {'http': '147.135.209.179'},\n",
        "          {'http': '94.23.91.209'}]"
      ],
      "metadata": {
        "id": "sVuy62TwvEs0"
      },
      "execution_count": 58,
      "outputs": []
    },
    {
      "cell_type": "code",
      "source": [
        "headers = {\n",
        "    'Accept-Encoding': 'gzip, deflate, sdch',\n",
        "    'Accept-Language': 'en-US,en;q=0.8',\n",
        "    'Upgrade-Insecure-Requests': '1',\n",
        "    'User-Agent': 'Mozilla/5.0 (X11; Linux x86_64)',\n",
        "    'Accept': 'text/html,application/xhtml+xml,application/xml;q=0.9,image/webp,*/*;q=0.8',\n",
        "    'Cache-Control': 'max-age=0',\n",
        "    'Connection': 'keep-alive',\n",
        "}"
      ],
      "metadata": {
        "id": "4wuxI5sv7TNG"
      },
      "execution_count": 59,
      "outputs": []
    },
    {
      "cell_type": "code",
      "source": [
        "#def scrap_eobuwie(main_url = \"https://www.eobuwie.com.pl/producenci:\",subpages = [\"adidas_performance\",\"puma\", \"reebok\",\"4f\",\"kappa\",\"new_balance\",\"skechers\",\"under_armour\",\"vans\",\"lee_cooper\",\"ipanema\",\"campus\"],  prefix = '.html']\n",
        "\n",
        "## dodaj iteracje przez wszystkie podstrony\n",
        "\n",
        "def scrap_eobuwie(brands):\n",
        "\n",
        "    start = time()\n",
        "    \n",
        "    # empty dataframe to collect data\n",
        "    pricelist = pd.DataFrame({\"Article\" : [],\n",
        "                 \"Price\" : [],\n",
        "                 \"RRP\": [],\n",
        "                 \"Long_name\": [],\n",
        "                 \"Brand\": []})\n",
        "    \n",
        "    # iterate through each provided brand\n",
        "    for brand in brands:\n",
        "      url = \"https://www.eobuwie.com.pl/producenci:\" + brand + \".html\"\n",
        "\n",
        "      \n",
        "      session = requests.Session()\n",
        "      session.max_redirects = 90\n",
        "      cookies = dict(cookies_are='working')\n",
        "      \n",
        "      # get whole structure of data, and avoid getting blocked, by add headers parameter\n",
        "      page = session.get(url, headers = headers,cookies=cookies) \n",
        "\n",
        "      # let parse our web page\n",
        "      soup = BeautifulSoup(page.content)\n",
        "\n",
        "      # iterate throug all products on one page to get direct link to them\n",
        "      for product in soup.find_all(attrs =  {\"class\": \"products-list__link\"}):\n",
        "        try:\n",
        "          link = 'http://' + product['href'][2:]\n",
        "        except:\n",
        "          continue\n",
        "\n",
        "        try:\n",
        "          page_article = session.get(link, headers = headers, timeout = 98,cookies=cookies) \n",
        "          soup_article = BeautifulSoup(page_article.content)\n",
        "\n",
        "        except:\n",
        "          # choose random proxy\n",
        "          proxy = random.choice(proxies) \n",
        "\n",
        "          session = requests.Session()\n",
        "          session.max_redirects = 90\n",
        "          cookies = dict(cookies_are='working') \n",
        "\n",
        "          page_article = session.get(link, headers = headers, timeout = 98,cookies=cookies, proxies = proxy) \n",
        "          soup_article = BeautifulSoup(page_article.content)\n",
        "\n",
        "        # getting information about articels\n",
        "        try:\n",
        "          try:\n",
        "            RRP = soup_article.find(attrs = {\"class\" : \"e-product-price__group\"}).find(attrs = {\"class\" : \"e-product-price__regular\"}).text.strip().replace('\\xa0zł',\"\")\n",
        "          except:\n",
        "            RRP = soup_article.find(attrs = {\"class\" : \"e-product-price__normal\"}).text.strip().replace('\\xa0zł',\"\")\n",
        "\n",
        "          try:\n",
        "            PRICE = soup_article.find(attrs = {\"class\" : \"e-product-price__group\"}).find(attrs = {\"class\" : \"e-product-price__special\"}).text.strip().replace('\\xa0zł',\"\")\n",
        "          except:\n",
        "            PRICE = RRP\n",
        "\n",
        "          NAME = soup_article.find(\"meta\" ,property=\"product:mfr_part_no\")[\"content\"]\n",
        "\n",
        "          LONG_NAME = soup_article.find(attrs = {\"class\" : \"e-product-name__model\"}).text.strip()\n",
        "\n",
        "          pricelist = pricelist.append({'Article' : NAME,\n",
        "                                'Price' : PRICE,\n",
        "                                'RRP' : RRP,\n",
        "                                'Long_name': LONG_NAME,\n",
        "                                'Brand': brand},\n",
        "                                ignore_index = True)\n",
        "            \n",
        "        except:\n",
        "          continue #if article is sold out\n",
        "\n",
        "          # sleep for one seconds after each link to avoid block\n",
        "          sleep(3)\n",
        "\n",
        "    end = time()\n",
        "    print(round(end - start,2), 'calculation time in sec')\n",
        "    \n",
        "    return pricelist"
      ],
      "metadata": {
        "id": "BP2D090c-rTr"
      },
      "execution_count": 89,
      "outputs": []
    },
    {
      "cell_type": "code",
      "source": [
        "brands = [\"adidas_performance\",\"puma\", \"reebok\",\"4f\",\"kappa\",\"new_balance\",\"skechers\",\"under_armour\",\"vans\",\"lee_cooper\",\"ipanema\",\"campus\"]"
      ],
      "metadata": {
        "id": "MVUa-38x5oAm"
      },
      "execution_count": 33,
      "outputs": []
    },
    {
      "cell_type": "code",
      "source": [
        "scrap_eobuwie([\"campus\"])"
      ],
      "metadata": {
        "colab": {
          "base_uri": "https://localhost:8080/",
          "height": 945
        },
        "id": "CDkA1djq5oDJ",
        "outputId": "3946be40-9aab-42d8-ba9f-83ee5dcd788e"
      },
      "execution_count": 90,
      "outputs": [
        {
          "output_type": "stream",
          "name": "stdout",
          "text": [
            "74.56 calculation time in sec\n"
          ]
        },
        {
          "output_type": "execute_result",
          "data": {
            "text/html": [
              "\n",
              "  <div id=\"df-2bdccb2b-a52b-4a15-90fe-fe41953a6bf8\">\n",
              "    <div class=\"colab-df-container\">\n",
              "      <div>\n",
              "<style scoped>\n",
              "    .dataframe tbody tr th:only-of-type {\n",
              "        vertical-align: middle;\n",
              "    }\n",
              "\n",
              "    .dataframe tbody tr th {\n",
              "        vertical-align: top;\n",
              "    }\n",
              "\n",
              "    .dataframe thead th {\n",
              "        text-align: right;\n",
              "    }\n",
              "</style>\n",
              "<table border=\"1\" class=\"dataframe\">\n",
              "  <thead>\n",
              "    <tr style=\"text-align: right;\">\n",
              "      <th></th>\n",
              "      <th>Article</th>\n",
              "      <th>Price</th>\n",
              "      <th>RRP</th>\n",
              "      <th>Long_name</th>\n",
              "      <th>Brand</th>\n",
              "    </tr>\n",
              "  </thead>\n",
              "  <tbody>\n",
              "    <tr>\n",
              "      <th>0</th>\n",
              "      <td>Kamet CM0104321205</td>\n",
              "      <td>379,00</td>\n",
              "      <td>379,00</td>\n",
              "      <td>Kamet CM0104321205 Black/Yellow</td>\n",
              "      <td>campus</td>\n",
              "    </tr>\n",
              "    <tr>\n",
              "      <th>1</th>\n",
              "      <td>Stigelos 2</td>\n",
              "      <td>379,00</td>\n",
              "      <td>379,00</td>\n",
              "      <td>Stigelos 2 Light Brown/Dark Brown/Black</td>\n",
              "      <td>campus</td>\n",
              "    </tr>\n",
              "    <tr>\n",
              "      <th>2</th>\n",
              "      <td>Kamet CM0104321200</td>\n",
              "      <td>379,00</td>\n",
              "      <td>379,00</td>\n",
              "      <td>Kamet CM0104321200 Black</td>\n",
              "      <td>campus</td>\n",
              "    </tr>\n",
              "    <tr>\n",
              "      <th>3</th>\n",
              "      <td>Vagabond Lady</td>\n",
              "      <td>329,00</td>\n",
              "      <td>329,00</td>\n",
              "      <td>Vagabond Lady Dark Blue/Black/Light Blue</td>\n",
              "      <td>campus</td>\n",
              "    </tr>\n",
              "    <tr>\n",
              "      <th>4</th>\n",
              "      <td>Norden CM0101321330</td>\n",
              "      <td>299,00</td>\n",
              "      <td>349,00</td>\n",
              "      <td>Norden CM0101321330 Camel</td>\n",
              "      <td>campus</td>\n",
              "    </tr>\n",
              "    <tr>\n",
              "      <th>5</th>\n",
              "      <td>Norden CM0101321200</td>\n",
              "      <td>299,00</td>\n",
              "      <td>349,00</td>\n",
              "      <td>Norden CM0101321200 Black</td>\n",
              "      <td>campus</td>\n",
              "    </tr>\n",
              "    <tr>\n",
              "      <th>6</th>\n",
              "      <td>Corno CM0102321200</td>\n",
              "      <td>299,00</td>\n",
              "      <td>349,00</td>\n",
              "      <td>Corno CM0102321200 Black</td>\n",
              "      <td>campus</td>\n",
              "    </tr>\n",
              "    <tr>\n",
              "      <th>7</th>\n",
              "      <td>Talwar</td>\n",
              "      <td>349,00</td>\n",
              "      <td>349,00</td>\n",
              "      <td>Talwar Grey/Black</td>\n",
              "      <td>campus</td>\n",
              "    </tr>\n",
              "    <tr>\n",
              "      <th>8</th>\n",
              "      <td>Corno CM0102321330</td>\n",
              "      <td>299,00</td>\n",
              "      <td>349,00</td>\n",
              "      <td>Corno CM0102321330 Camel</td>\n",
              "      <td>campus</td>\n",
              "    </tr>\n",
              "    <tr>\n",
              "      <th>9</th>\n",
              "      <td>Rimo High CM0107321200</td>\n",
              "      <td>309,00</td>\n",
              "      <td>329,00</td>\n",
              "      <td>Rimo High CM0107321200 Black</td>\n",
              "      <td>campus</td>\n",
              "    </tr>\n",
              "    <tr>\n",
              "      <th>10</th>\n",
              "      <td>Rimo CM0108321200</td>\n",
              "      <td>259,00</td>\n",
              "      <td>299,00</td>\n",
              "      <td>Rimo CM0108321200 Black</td>\n",
              "      <td>campus</td>\n",
              "    </tr>\n",
              "    <tr>\n",
              "      <th>11</th>\n",
              "      <td>Mana CW0104321200</td>\n",
              "      <td>279,00</td>\n",
              "      <td>279,00</td>\n",
              "      <td>Mana CW0104321200 Black</td>\n",
              "      <td>campus</td>\n",
              "    </tr>\n",
              "    <tr>\n",
              "      <th>12</th>\n",
              "      <td>Mana CW0104321201</td>\n",
              "      <td>229,00</td>\n",
              "      <td>279,00</td>\n",
              "      <td>Mana CW0104321201 Black</td>\n",
              "      <td>campus</td>\n",
              "    </tr>\n",
              "    <tr>\n",
              "      <th>13</th>\n",
              "      <td>Mana Hign</td>\n",
              "      <td>249,00</td>\n",
              "      <td>299,00</td>\n",
              "      <td>Mana Hign Black/Grey</td>\n",
              "      <td>campus</td>\n",
              "    </tr>\n",
              "    <tr>\n",
              "      <th>14</th>\n",
              "      <td>Vagabond Lady</td>\n",
              "      <td>329,00</td>\n",
              "      <td>329,00</td>\n",
              "      <td>Vagabond Lady Black/Pink</td>\n",
              "      <td>campus</td>\n",
              "    </tr>\n",
              "    <tr>\n",
              "      <th>15</th>\n",
              "      <td>Rosa CW0101321200</td>\n",
              "      <td>299,00</td>\n",
              "      <td>349,00</td>\n",
              "      <td>Rosa CW0101321200 Czarny</td>\n",
              "      <td>campus</td>\n",
              "    </tr>\n",
              "    <tr>\n",
              "      <th>16</th>\n",
              "      <td>Meran</td>\n",
              "      <td>309,00</td>\n",
              "      <td>329,00</td>\n",
              "      <td>Meran Anthracite/Grey Dark/Orange</td>\n",
              "      <td>campus</td>\n",
              "    </tr>\n",
              "    <tr>\n",
              "      <th>17</th>\n",
              "      <td>Nawat Kay 2 SHTR-NAWKCM-ANDG00</td>\n",
              "      <td>309,00</td>\n",
              "      <td>329,00</td>\n",
              "      <td>Nawat Kay 2 SHTR-NAWKCM-ANDG00 Anthracite/Grey...</td>\n",
              "      <td>campus</td>\n",
              "    </tr>\n",
              "    <tr>\n",
              "      <th>18</th>\n",
              "      <td>Rocker Fire 2 ANDG00</td>\n",
              "      <td>329,00</td>\n",
              "      <td>349,00</td>\n",
              "      <td>Rocker Fire 2 ANDG00 Anthracite/Red</td>\n",
              "      <td>campus</td>\n",
              "    </tr>\n",
              "    <tr>\n",
              "      <th>19</th>\n",
              "      <td>Rimo CM0108321235</td>\n",
              "      <td>249,00</td>\n",
              "      <td>299,00</td>\n",
              "      <td>Rimo CM0108321235 Black/Olive</td>\n",
              "      <td>campus</td>\n",
              "    </tr>\n",
              "    <tr>\n",
              "      <th>20</th>\n",
              "      <td>Rosa CW0101321330</td>\n",
              "      <td>299,00</td>\n",
              "      <td>349,00</td>\n",
              "      <td>Rosa CW0101321330 Camel</td>\n",
              "      <td>campus</td>\n",
              "    </tr>\n",
              "    <tr>\n",
              "      <th>21</th>\n",
              "      <td>Chandler CM0103321321</td>\n",
              "      <td>249,00</td>\n",
              "      <td>299,00</td>\n",
              "      <td>Chandler CM0103321321 Dark Grey</td>\n",
              "      <td>campus</td>\n",
              "    </tr>\n",
              "    <tr>\n",
              "      <th>22</th>\n",
              "      <td>Chandler CM0103321330</td>\n",
              "      <td>249,00</td>\n",
              "      <td>299,00</td>\n",
              "      <td>Chandler CM0103321330 Camel</td>\n",
              "      <td>campus</td>\n",
              "    </tr>\n",
              "    <tr>\n",
              "      <th>23</th>\n",
              "      <td>Mullaco CU0708321235</td>\n",
              "      <td>159,00</td>\n",
              "      <td>199,00</td>\n",
              "      <td>Mullaco CU0708321235 Black/Olive</td>\n",
              "      <td>campus</td>\n",
              "    </tr>\n",
              "    <tr>\n",
              "      <th>24</th>\n",
              "      <td>Mullaco CU0708321460</td>\n",
              "      <td>159,00</td>\n",
              "      <td>199,00</td>\n",
              "      <td>Mullaco CU0708321460 Yellow</td>\n",
              "      <td>campus</td>\n",
              "    </tr>\n",
              "    <tr>\n",
              "      <th>25</th>\n",
              "      <td>Donard CU0707321510</td>\n",
              "      <td>149,00</td>\n",
              "      <td>179,00</td>\n",
              "      <td>Donard CU0707321510 Navy/Blue</td>\n",
              "      <td>campus</td>\n",
              "    </tr>\n",
              "    <tr>\n",
              "      <th>26</th>\n",
              "      <td>Erriga CU0706321118</td>\n",
              "      <td>109,00</td>\n",
              "      <td>129,00</td>\n",
              "      <td>Erriga CU0706321118 Erriga/Red</td>\n",
              "      <td>campus</td>\n",
              "    </tr>\n",
              "    <tr>\n",
              "      <th>27</th>\n",
              "      <td>Cahero CU0705321170</td>\n",
              "      <td>119,00</td>\n",
              "      <td>139,00</td>\n",
              "      <td>Cahero CU0705321170 Olive</td>\n",
              "      <td>campus</td>\n",
              "    </tr>\n",
              "  </tbody>\n",
              "</table>\n",
              "</div>\n",
              "      <button class=\"colab-df-convert\" onclick=\"convertToInteractive('df-2bdccb2b-a52b-4a15-90fe-fe41953a6bf8')\"\n",
              "              title=\"Convert this dataframe to an interactive table.\"\n",
              "              style=\"display:none;\">\n",
              "        \n",
              "  <svg xmlns=\"http://www.w3.org/2000/svg\" height=\"24px\"viewBox=\"0 0 24 24\"\n",
              "       width=\"24px\">\n",
              "    <path d=\"M0 0h24v24H0V0z\" fill=\"none\"/>\n",
              "    <path d=\"M18.56 5.44l.94 2.06.94-2.06 2.06-.94-2.06-.94-.94-2.06-.94 2.06-2.06.94zm-11 1L8.5 8.5l.94-2.06 2.06-.94-2.06-.94L8.5 2.5l-.94 2.06-2.06.94zm10 10l.94 2.06.94-2.06 2.06-.94-2.06-.94-.94-2.06-.94 2.06-2.06.94z\"/><path d=\"M17.41 7.96l-1.37-1.37c-.4-.4-.92-.59-1.43-.59-.52 0-1.04.2-1.43.59L10.3 9.45l-7.72 7.72c-.78.78-.78 2.05 0 2.83L4 21.41c.39.39.9.59 1.41.59.51 0 1.02-.2 1.41-.59l7.78-7.78 2.81-2.81c.8-.78.8-2.07 0-2.86zM5.41 20L4 18.59l7.72-7.72 1.47 1.35L5.41 20z\"/>\n",
              "  </svg>\n",
              "      </button>\n",
              "      \n",
              "  <style>\n",
              "    .colab-df-container {\n",
              "      display:flex;\n",
              "      flex-wrap:wrap;\n",
              "      gap: 12px;\n",
              "    }\n",
              "\n",
              "    .colab-df-convert {\n",
              "      background-color: #E8F0FE;\n",
              "      border: none;\n",
              "      border-radius: 50%;\n",
              "      cursor: pointer;\n",
              "      display: none;\n",
              "      fill: #1967D2;\n",
              "      height: 32px;\n",
              "      padding: 0 0 0 0;\n",
              "      width: 32px;\n",
              "    }\n",
              "\n",
              "    .colab-df-convert:hover {\n",
              "      background-color: #E2EBFA;\n",
              "      box-shadow: 0px 1px 2px rgba(60, 64, 67, 0.3), 0px 1px 3px 1px rgba(60, 64, 67, 0.15);\n",
              "      fill: #174EA6;\n",
              "    }\n",
              "\n",
              "    [theme=dark] .colab-df-convert {\n",
              "      background-color: #3B4455;\n",
              "      fill: #D2E3FC;\n",
              "    }\n",
              "\n",
              "    [theme=dark] .colab-df-convert:hover {\n",
              "      background-color: #434B5C;\n",
              "      box-shadow: 0px 1px 3px 1px rgba(0, 0, 0, 0.15);\n",
              "      filter: drop-shadow(0px 1px 2px rgba(0, 0, 0, 0.3));\n",
              "      fill: #FFFFFF;\n",
              "    }\n",
              "  </style>\n",
              "\n",
              "      <script>\n",
              "        const buttonEl =\n",
              "          document.querySelector('#df-2bdccb2b-a52b-4a15-90fe-fe41953a6bf8 button.colab-df-convert');\n",
              "        buttonEl.style.display =\n",
              "          google.colab.kernel.accessAllowed ? 'block' : 'none';\n",
              "\n",
              "        async function convertToInteractive(key) {\n",
              "          const element = document.querySelector('#df-2bdccb2b-a52b-4a15-90fe-fe41953a6bf8');\n",
              "          const dataTable =\n",
              "            await google.colab.kernel.invokeFunction('convertToInteractive',\n",
              "                                                     [key], {});\n",
              "          if (!dataTable) return;\n",
              "\n",
              "          const docLinkHtml = 'Like what you see? Visit the ' +\n",
              "            '<a target=\"_blank\" href=https://colab.research.google.com/notebooks/data_table.ipynb>data table notebook</a>'\n",
              "            + ' to learn more about interactive tables.';\n",
              "          element.innerHTML = '';\n",
              "          dataTable['output_type'] = 'display_data';\n",
              "          await google.colab.output.renderOutput(dataTable, element);\n",
              "          const docLink = document.createElement('div');\n",
              "          docLink.innerHTML = docLinkHtml;\n",
              "          element.appendChild(docLink);\n",
              "        }\n",
              "      </script>\n",
              "    </div>\n",
              "  </div>\n",
              "  "
            ],
            "text/plain": [
              "                           Article  ...   Brand\n",
              "0               Kamet CM0104321205  ...  campus\n",
              "1                       Stigelos 2  ...  campus\n",
              "2              Kamet CM0104321200   ...  campus\n",
              "3                    Vagabond Lady  ...  campus\n",
              "4              Norden CM0101321330  ...  campus\n",
              "5              Norden CM0101321200  ...  campus\n",
              "6              Corno CM0102321200   ...  campus\n",
              "7                          Talwar   ...  campus\n",
              "8              Corno CM0102321330   ...  campus\n",
              "9           Rimo High CM0107321200  ...  campus\n",
              "10               Rimo CM0108321200  ...  campus\n",
              "11               Mana CW0104321200  ...  campus\n",
              "12               Mana CW0104321201  ...  campus\n",
              "13                      Mana Hign   ...  campus\n",
              "14                   Vagabond Lady  ...  campus\n",
              "15               Rosa CW0101321200  ...  campus\n",
              "16                          Meran   ...  campus\n",
              "17  Nawat Kay 2 SHTR-NAWKCM-ANDG00  ...  campus\n",
              "18           Rocker Fire 2 ANDG00   ...  campus\n",
              "19               Rimo CM0108321235  ...  campus\n",
              "20               Rosa CW0101321330  ...  campus\n",
              "21           Chandler CM0103321321  ...  campus\n",
              "22           Chandler CM0103321330  ...  campus\n",
              "23            Mullaco CU0708321235  ...  campus\n",
              "24            Mullaco CU0708321460  ...  campus\n",
              "25             Donard CU0707321510  ...  campus\n",
              "26             Erriga CU0706321118  ...  campus\n",
              "27            Cahero CU0705321170   ...  campus\n",
              "\n",
              "[28 rows x 5 columns]"
            ]
          },
          "metadata": {},
          "execution_count": 90
        }
      ]
    },
    {
      "cell_type": "code",
      "source": [
        ""
      ],
      "metadata": {
        "id": "4RX2xMAU-rYp"
      },
      "execution_count": null,
      "outputs": []
    },
    {
      "cell_type": "code",
      "source": [
        ""
      ],
      "metadata": {
        "id": "wuwwTI5f-ra-"
      },
      "execution_count": null,
      "outputs": []
    },
    {
      "cell_type": "code",
      "source": [
        ""
      ],
      "metadata": {
        "id": "6zYXHjHudm9g"
      },
      "execution_count": null,
      "outputs": []
    },
    {
      "cell_type": "code",
      "source": [
        ""
      ],
      "metadata": {
        "id": "s18X3V-xdm_y"
      },
      "execution_count": null,
      "outputs": []
    },
    {
      "cell_type": "code",
      "source": [
        ""
      ],
      "metadata": {
        "id": "HoDA1JBNdnCA"
      },
      "execution_count": null,
      "outputs": []
    },
    {
      "cell_type": "code",
      "source": [
        ""
      ],
      "metadata": {
        "id": "6h1yTYL3dnEg"
      },
      "execution_count": null,
      "outputs": []
    },
    {
      "cell_type": "code",
      "source": [
        ""
      ],
      "metadata": {
        "id": "X7Nb1snfdnGj"
      },
      "execution_count": null,
      "outputs": []
    },
    {
      "cell_type": "code",
      "source": [
        "#def scrap_eobuwie(main_url = \"https://www.eobuwie.com.pl/producenci:\",subpages = [\"adidas_performance\",\"puma\", \"reebok\",\"4f\",\"kappa\",\"new_balance\",\"skechers\",\"under_armour\",\"vans\",\"lee_cooper\",\"ipanema\",\"campus\"],  prefix = '.html']\n",
        "###stara wersja\n",
        "## dodaj iteracje przez wszystkie podstrony\n",
        "\n",
        "def scrap_eobuwie(brands):\n",
        "\n",
        "    start = time()\n",
        "\n",
        "    session = requests.Session()\n",
        "    session.max_redirects = 90\n",
        "    cookies = dict(cookies_are='working')\n",
        "    \n",
        "    # empty dataframe to collect data\n",
        "    pricelist = pd.DataFrame({\"Article\" : [],\n",
        "                 \"Price\" : [],\n",
        "                 \"RRP\": [],\n",
        "                 \"Long_name\": [],\n",
        "                 \"Brand\": []})\n",
        "    \n",
        "    # iterate through each provided brand\n",
        "    for brand in brands:\n",
        "      url = \"https://www.eobuwie.com.pl/producenci:\" + brand + \".html\"\n",
        "      \n",
        "      # choose random proxy\n",
        "      proxy = random.choice(proxies)\n",
        "\n",
        "      # get whole structure of data, and avoid getting blocked, by add headers parameter\n",
        "      page = session.get(url, headers = headers,cookies=cookies, proxies = proxy ) \n",
        "\n",
        "      # let parse our web page\n",
        "      soup = BeautifulSoup(page.content)\n",
        "\n",
        "      # iterate throug all products on one page to get direct link to them\n",
        "      for product in soup.find_all(attrs =  {\"class\": \"products-list__link\"}):\n",
        "        try:\n",
        "          link = 'http://' + product['href'][2:]\n",
        "        except:\n",
        "          continue\n",
        "\n",
        "        \n",
        "        page_article = session.get(link, headers = headers, timeout = 150,cookies=cookies) \n",
        "        soup_article = BeautifulSoup(page_article.content)\n",
        "\n",
        "        # getting information about articels\n",
        "        try:\n",
        "          try:\n",
        "            RRP = soup_article.find(attrs = {\"class\" : \"e-product-price__group\"}).find(attrs = {\"class\" : \"e-product-price__regular\"}).text.strip().replace('\\xa0zł',\"\")\n",
        "          except:\n",
        "            RRP = soup_article.find(attrs = {\"class\" : \"e-product-price__normal\"}).text.strip().replace('\\xa0zł',\"\")\n",
        "\n",
        "          try:\n",
        "            PRICE = soup_article.find(attrs = {\"class\" : \"e-product-price__group\"}).find(attrs = {\"class\" : \"e-product-price__special\"}).text.strip().replace('\\xa0zł',\"\")\n",
        "          except:\n",
        "            PRICE = RRP\n",
        "\n",
        "          NAME = soup_article.find(\"meta\" ,property=\"product:mfr_part_no\")[\"content\"]\n",
        "\n",
        "          LONG_NAME = soup_article.find(attrs = {\"class\" : \"e-product-name__model\"}).text.strip()\n",
        "\n",
        "          pricelist = pricelist.append({'Article' : NAME,\n",
        "                                'Price' : PRICE,\n",
        "                                'RRP' : RRP,\n",
        "                                'Long_name': LONG_NAME,\n",
        "                                'Brand': brand},\n",
        "                                ignore_index = True)\n",
        "            \n",
        "          except:\n",
        "            continue #if article is sold out\n",
        "\n",
        "          # sleep for one seconds after each link to avoid block\n",
        "          sleep(3)\n",
        "\n",
        "    end = time()\n",
        "    print(round(end - start,2), 'calculation time in sec')\n",
        "    \n",
        "    return pricelist\n"
      ],
      "metadata": {
        "id": "QJnXvXZO5n-J"
      },
      "execution_count": 78,
      "outputs": []
    }
  ]
}