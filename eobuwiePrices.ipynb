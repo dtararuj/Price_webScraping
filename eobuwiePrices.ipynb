{
  "nbformat": 4,
  "nbformat_minor": 0,
  "metadata": {
    "colab": {
      "name": "eobuwiePrices.ipynb",
      "provenance": [],
      "authorship_tag": "ABX9TyOUNCy8iLpBJkSXO+mGpll4"
    },
    "kernelspec": {
      "name": "python3",
      "display_name": "Python 3"
    },
    "language_info": {
      "name": "python"
    }
  },
  "cells": [
    {
      "cell_type": "code",
      "execution_count": 131,
      "metadata": {
        "id": "bA6VfTSWKytz"
      },
      "outputs": [],
      "source": [
        "from bs4 import BeautifulSoup\n",
        "import requests \n",
        "import pandas as pd\n",
        "from time import time, sleep\n",
        "from datetime import datetime\n",
        "import random\n",
        "from json import loads\n",
        "import json\n",
        "import re"
      ]
    },
    {
      "cell_type": "code",
      "source": [
        "link = 'https://www.eobuwie.com.pl/oferta'"
      ],
      "metadata": {
        "id": "EUXBJX0UMNhj"
      },
      "execution_count": 81,
      "outputs": []
    },
    {
      "cell_type": "code",
      "source": [
        "page = requests.get(link)"
      ],
      "metadata": {
        "id": "46fnwrZHMNkO"
      },
      "execution_count": 82,
      "outputs": []
    },
    {
      "cell_type": "code",
      "source": [
        "soup = BeautifulSoup(page.content)"
      ],
      "metadata": {
        "id": "1QZB_ck7MNo4"
      },
      "execution_count": 83,
      "outputs": []
    },
    {
      "cell_type": "code",
      "source": [
        "link_article = soup.find(attrs =  {\"class\": \"products-list__link\"})['href'][2:]\n"
      ],
      "metadata": {
        "id": "SaZOH3v0MNqz"
      },
      "execution_count": 84,
      "outputs": []
    },
    {
      "cell_type": "code",
      "source": [
        "link_article "
      ],
      "metadata": {
        "colab": {
          "base_uri": "https://localhost:8080/",
          "height": 35
        },
        "id": "8-QMzvagV3TH",
        "outputId": "9edf7dbb-0ef6-4ecb-f47b-05cbd0d0903d"
      },
      "execution_count": 97,
      "outputs": [
        {
          "output_type": "execute_result",
          "data": {
            "application/vnd.google.colaboratory.intrinsic+json": {
              "type": "string"
            },
            "text/plain": [
              "'www.eobuwie.com.pl/buty-adidas-superstar-j-fu7712-ftwwht-cblack-ftwwht.html'"
            ]
          },
          "metadata": {},
          "execution_count": 97
        }
      ]
    },
    {
      "cell_type": "code",
      "source": [
        "# testowo dowolny inny artykul\n",
        "\n",
        "link_article = \"www.eobuwie.com.pl/buty-reebok-zig-kinetica-ii-h01276-ftwwht-purgry-glablu.html?snrai_campaign=acQIbt76sJLK&snrai_id=f3da7324-41e8-4b71-a3a4-2f0b7b70ff29\""
      ],
      "metadata": {
        "id": "vrUYZY2Gln0y"
      },
      "execution_count": 212,
      "outputs": []
    },
    {
      "cell_type": "code",
      "source": [
        "page_article = requests.get(\"http://\" + link_article)"
      ],
      "metadata": {
        "id": "QZ7HXmi3MNxq"
      },
      "execution_count": 213,
      "outputs": []
    },
    {
      "cell_type": "code",
      "source": [
        "soup_article = BeautifulSoup(page_article.content)\n"
      ],
      "metadata": {
        "id": "fxx8lWsGMN2V"
      },
      "execution_count": 214,
      "outputs": []
    },
    {
      "cell_type": "code",
      "source": [
        "RRP = soup_article.find(attrs = {\"class\" : \"e-product-price__group\"}).find(attrs = {\"class\" : \"e-product-price__regular\"}).text.strip().replace('\\xa0zł',\"\")"
      ],
      "metadata": {
        "id": "ru6tFbLyQNjQ"
      },
      "execution_count": 215,
      "outputs": []
    },
    {
      "cell_type": "code",
      "source": [
        "PRICE = soup_article.find(attrs = {\"class\" : \"e-product-price__group\"}).find(attrs = {\"class\" : \"e-product-price__special\"}).text.strip().replace('\\xa0zł',\"\")"
      ],
      "metadata": {
        "id": "93hmj9i_Rj_s"
      },
      "execution_count": 216,
      "outputs": []
    },
    {
      "cell_type": "code",
      "source": [
        "soup_article.find(attrs = {\"class\" : \"e-product-price__group\"})"
      ],
      "metadata": {
        "colab": {
          "base_uri": "https://localhost:8080/"
        },
        "id": "zpNNPCKlQsuu",
        "outputId": "737b360d-2993-4a0f-b9ee-e9847e7c6131"
      },
      "execution_count": 217,
      "outputs": [
        {
          "output_type": "execute_result",
          "data": {
            "text/plain": [
              "<div class=\"e-product-price__group\">\n",
              "<div class=\"e-product-price__regular\">\n",
              "449,00 zł </div>\n",
              "<div class=\"e-product-price__special\">\n",
              "349,00 zł </div>\n",
              "</div>"
            ]
          },
          "metadata": {},
          "execution_count": 217
        }
      ]
    },
    {
      "cell_type": "code",
      "source": [
        "NAZWA = soup_article.find(\"meta\" ,property=\"product:mfr_part_no\")[\"content\"]"
      ],
      "metadata": {
        "id": "mA2EphBWlZ7S"
      },
      "execution_count": 218,
      "outputs": []
    },
    {
      "cell_type": "code",
      "source": [
        "RRP, PRICE, NAZWA"
      ],
      "metadata": {
        "colab": {
          "base_uri": "https://localhost:8080/"
        },
        "id": "oO2dBVBSlZ9o",
        "outputId": "2721acdf-d637-4b8c-947e-58176bcbacb7"
      },
      "execution_count": 219,
      "outputs": [
        {
          "output_type": "execute_result",
          "data": {
            "text/plain": [
              "('449,00', '349,00', 'Zig Kinetica II H01276')"
            ]
          },
          "metadata": {},
          "execution_count": 219
        }
      ]
    },
    {
      "cell_type": "code",
      "source": [
        ""
      ],
      "metadata": {
        "id": "yk6ePXUolaAD"
      },
      "execution_count": null,
      "outputs": []
    },
    {
      "cell_type": "code",
      "source": [
        ""
      ],
      "metadata": {
        "id": "83EwK2-OlaCi"
      },
      "execution_count": null,
      "outputs": []
    },
    {
      "cell_type": "code",
      "source": [
        ""
      ],
      "metadata": {
        "id": "LlFIZh3DlaE8"
      },
      "execution_count": null,
      "outputs": []
    },
    {
      "cell_type": "code",
      "source": [
        ""
      ],
      "metadata": {
        "id": "t1SYA1LylaHS"
      },
      "execution_count": null,
      "outputs": []
    }
  ]
}