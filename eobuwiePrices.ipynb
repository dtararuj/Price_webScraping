{
  "nbformat": 4,
  "nbformat_minor": 0,
  "metadata": {
    "colab": {
      "name": "eobuwiePrices.ipynb",
      "provenance": [],
      "collapsed_sections": [],
      "mount_file_id": "125foEsDtK0tp9Js89_pTrFDPQ_3OD_8-",
      "authorship_tag": "ABX9TyN4AFMKvwIZ1RcEJnhhy5Xc"
    },
    "kernelspec": {
      "name": "python3",
      "display_name": "Python 3"
    },
    "language_info": {
      "name": "python"
    }
  },
  "cells": [
    {
      "cell_type": "code",
      "execution_count": 1,
      "metadata": {
        "id": "bA6VfTSWKytz"
      },
      "outputs": [],
      "source": [
        "from bs4 import BeautifulSoup\n",
        "import requests \n",
        "import pandas as pd\n",
        "from time import time, sleep\n",
        "from datetime import datetime\n",
        "import random\n",
        "import base64"
      ]
    },
    {
      "cell_type": "code",
      "source": [
        "# list of free proxies \n",
        "proxies = [{'http': '95.178.108.189'},\n",
        "          {'http': '80.48.119.28'},\n",
        "          {'http': '79.133.202.7'},\n",
        "          {'http': '185.237.20.218'},\n",
        "          {'http': '91.211.100.35'},\n",
        "          {'http': '83.168.84.82'},\n",
        "          {'http': '78.133.163.190'},\n",
        "          {'http': '195.205.33.237'},\n",
        "          {'http': '80.54.62.254'},\n",
        "          {'http': '185.89.65.170'},\n",
        "          {'http': '178.212.48.70'},\n",
        "          {'http': '185.14.149.178'},\n",
        "          {'http': '185.21.39.42'},\n",
        "          {'http': '195.136.186.17'},\n",
        "          {'http': '176.58.17.1'},\n",
        "          {'http': '178.212.48.23'},\n",
        "          {'http': '185.56.246.76'},\n",
        "          {'http': '185.179.132.152'},\n",
        "          {'http': '91.207.68.197'},\n",
        "          {'http': '91.246.213.104'},\n",
        "          {'http': '176.58.20.226'},\n",
        "          {'http': '178.212.48.17'},\n",
        "          {'http': '91.150.189.122'},\n",
        "          {'http': '85.128.16.50'},\n",
        "          {'http': '156.67.107.79'},\n",
        "          {'http': '91.227.103.134'},\n",
        "          {'http': '89.186.1.172'},\n",
        "          {'http': '178.212.54.137'},\n",
        "          {'http': '37.98.218.137'},\n",
        "          {'http': '85.128.16.163'},\n",
        "          {'http': '89.186.17.82'},\n",
        "          {'http': '185.122.144.144'},\n",
        "          {'http': '91.238.55.86'},\n",
        "          {'http': '176.103.74.89'},\n",
        "          {'http': '193.59.46.199'},\n",
        "          {'http': '94.230.27.58'},\n",
        "          {'http': '91.202.230.219'},\n",
        "          {'http': '46.227.37.149'},\n",
        "          {'http': '37.131.164.102'},\n",
        "          {'http': '185.89.65.165'},\n",
        "          {'http': '83.12.174.202'},\n",
        "          {'http': '80.53.255.194'},\n",
        "          {'http': '193.106.130.35'},\n",
        "          {'http': '46.171.28.162'},\n",
        "          {'http': '83.168.84.89'},\n",
        "          {'http': '91.224.197.180'},\n",
        "          {'http': '77.252.26.70'},\n",
        "          {'http': '193.59.27.203'},\n",
        "          {'http': '46.238.230.4'},\n",
        "          {'http': '94.240.10.115'},\n",
        "          {'http': '93.113.101.85'},\n",
        "          {'http': '94.240.29.203'},\n",
        "          {'http': '212.180.252.34'},\n",
        "          {'http': '194.31.33.50'},\n",
        "          {'http': '91.205.72.103'},\n",
        "          {'http': '83.238.13.109'},\n",
        "          {'http': '89.171.144.168'},\n",
        "          {'http': '80.48.255.145'},\n",
        "          {'http': '83.168.84.137'},\n",
        "          {'http': '5.226.125.10'},\n",
        "          {'http': '83.168.84.141'},\n",
        "          {'http': '83.168.84.142'},\n",
        "          {'http': '185.46.170.253'},\n",
        "          {'http': '91.216.254.5'},\n",
        "          {'http': '89.228.128.216'},\n",
        "          {'http': '46.174.235.37'},\n",
        "          {'http': '46.174.235.235'},\n",
        "          {'http': '185.238.239.55'},\n",
        "          {'http': '185.32.6.129'},\n",
        "          {'http': '195.177.217.131'},\n",
        "          {'http': '185.89.64.17'},\n",
        "          {'http': '78.133.186.5'},\n",
        "          {'http': '176.58.20.54'},\n",
        "          {'http': '79.133.200.147'},\n",
        "          {'http': '193.239.101.7'},\n",
        "          {'http': '193.59.26.138'},\n",
        "          {'http': '195.242.138.20'},\n",
        "          {'http': '178.216.24.80'},\n",
        "          {'http': '78.31.159.227'},\n",
        "          {'http': '93.105.40.62'},\n",
        "          {'http': '178.19.179.30'},\n",
        "          {'http': '91.226.51.200'},\n",
        "          {'http': '5.172.188.90'},\n",
        "          {'http': '62.133.135.129'},\n",
        "          {'http': '93.105.171.100'},\n",
        "          {'http': '178.212.52.67'},\n",
        "          {'http': '46.174.234.32'},\n",
        "          {'http': '91.234.127.222'},\n",
        "          {'http': '5.226.92.74'},\n",
        "          {'http': '147.135.209.179'},\n",
        "          {'http': '94.23.91.209'}]"
      ],
      "metadata": {
        "id": "sVuy62TwvEs0"
      },
      "execution_count": 2,
      "outputs": []
    },
    {
      "cell_type": "code",
      "source": [
        "headers = {\n",
        "    'Accept-Encoding': 'gzip, deflate, sdch',\n",
        "    'Accept-Language': 'en-US,en;q=0.8',\n",
        "    'Upgrade-Insecure-Requests': '1',\n",
        "    'User-Agent': 'Mozilla/5.0 (X11; Linux x86_64)',\n",
        "    'Accept': 'text/html,application/xhtml+xml,application/xml;q=0.9,image/webp,*/*;q=0.8',\n",
        "    'Cache-Control': 'max-age=0',\n",
        "    'Connection': 'keep-alive',\n",
        "}"
      ],
      "metadata": {
        "id": "4wuxI5sv7TNG"
      },
      "execution_count": 3,
      "outputs": []
    },
    {
      "cell_type": "code",
      "source": [
        "def scrap_eobuwie(brands):\n",
        "\n",
        "    start = time()\n",
        "    \n",
        "    session = requests.Session()\n",
        "    session.max_redirects = 90\n",
        "    cookies = dict(cookies_are='working')\n",
        "        \n",
        "    # empty dataframe to collect data\n",
        "    pricelist = pd.DataFrame({\"Article\" : [],\n",
        "                 \"Price\" : [],\n",
        "                 \"RRP\": [],\n",
        "                 \"Long_name\": [],\n",
        "                 \"Brand\": []})\n",
        "\n",
        "    # iterate through each provided brand\n",
        "    for id, brand in enumerate(brands):\n",
        "\n",
        "      # iterate through each subpage\n",
        "      for n in range(1, 100):\n",
        "        url = \"https://www.eobuwie.com.pl/\" + brand + \".html?p=\" + str(n)\n",
        "\n",
        "        # get whole structure of data, and avoid getting blocked, by add headers parameter\n",
        "        page = session.get(url, headers = headers,cookies=cookies) \n",
        "\n",
        "        # let parse our web page\n",
        "        soup = BeautifulSoup(page.content)\n",
        "\n",
        "        # iterate through all products on one page to get direct link to them\n",
        "        for product in soup.find_all(attrs =  {\"class\": \"products-list__link\"}):\n",
        "          try:\n",
        "            link = 'http://' + product['href'][2:]\n",
        "\n",
        "            try:\n",
        "              page_article = session.get(link, headers = headers, timeout = 98,cookies=cookies) \n",
        "              soup_article = BeautifulSoup(page_article.content)\n",
        "\n",
        "            except:\n",
        "              # choose random proxy\n",
        "              proxy = random.choice(proxies) \n",
        "\n",
        "              session = requests.Session()\n",
        "              session.max_redirects = 90\n",
        "              cookies = dict(cookies_are='working') \n",
        "\n",
        "              page_article = session.get(link, headers = headers, timeout = 98,cookies=cookies, proxies = proxy) \n",
        "              soup_article = BeautifulSoup(page_article.content)\n",
        "\n",
        "            # getting information about articels\n",
        "            try:\n",
        "              try:\n",
        "                RRP = soup_article.find(attrs = {\"class\" : \"e-product-price__group\"}).find(attrs = {\"class\" : \"e-product-price__regular\"}).text.strip().replace('\\xa0zł',\"\")\n",
        "              except:\n",
        "                RRP = soup_article.find(attrs = {\"class\" : \"e-product-price__normal\"}).text.strip().replace('\\xa0zł',\"\")\n",
        "\n",
        "              try:\n",
        "                PRICE = soup_article.find(attrs = {\"class\" : \"e-product-price__group\"}).find(attrs = {\"class\" : \"e-product-price__special\"}).text.strip().replace('\\xa0zł',\"\")\n",
        "              except:\n",
        "                PRICE = RRP\n",
        "\n",
        "              NAME = soup_article.find(\"meta\" ,property=\"product:mfr_part_no\")[\"content\"]\n",
        "\n",
        "              LONG_NAME = soup_article.find(attrs = {\"class\" : \"e-product-name__model\"}).text.strip()\n",
        "\n",
        "              pricelist = pricelist.append({'Article' : NAME,\n",
        "                                    'Price' : PRICE,\n",
        "                                    'RRP' : RRP,\n",
        "                                    'Long_name': LONG_NAME,\n",
        "                                    'Brand': brand},\n",
        "                                    ignore_index = True)\n",
        "                \n",
        "            except:\n",
        "              continue #if article is sold out\n",
        "            \n",
        "            # sleep for one seconds after each link to avoid block\n",
        "            sleep(3)\n",
        "\n",
        "          except: #if url doesn't work\n",
        "            continue\n",
        "\n",
        "        # check if there is another subpage\n",
        "        try:\n",
        "          next_page = soup.find(class_='toolbar-bottom__pager').find_all('a')[-1].text.strip()\n",
        "\n",
        "          if next_page != '»' or next_page == str(n):\n",
        "            break\n",
        "        except:\n",
        "          break\n",
        "\n",
        "        print(\"number of subpage: \", brand, n) \n",
        "        sleep(5)\n",
        "\n",
        "    end = time()\n",
        "    print(round(end - start,2), 'calculation time in sec')\n",
        "    \n",
        "    return pricelist"
      ],
      "metadata": {
        "id": "k_gOxalbCKCq"
      },
      "execution_count": 26,
      "outputs": []
    },
    {
      "cell_type": "code",
      "source": [
        "brands = [\"adidas_performance\",\"puma\", \"reebok\",\"4f\",\"kappa\",\"new_balance\",\"skechers\",\"under_armour\",\"vans\",\"lee_cooper\",\"ipanema\",\"campus\"]"
      ],
      "metadata": {
        "id": "MVUa-38x5oAm"
      },
      "execution_count": null,
      "outputs": []
    },
    {
      "cell_type": "code",
      "source": [
        "puma = scrap_eobuwie([\"puma\"])"
      ],
      "metadata": {
        "colab": {
          "base_uri": "https://localhost:8080/"
        },
        "id": "CDkA1djq5oDJ",
        "outputId": "446b8c47-0de5-483b-92d2-e6f720547380"
      },
      "execution_count": null,
      "outputs": [
        {
          "output_type": "stream",
          "name": "stdout",
          "text": [
            "number of subpage:  puma 1\n",
            "number of subpage:  puma 2\n",
            "number of subpage:  puma 3\n",
            "number of subpage:  puma 4\n",
            "number of subpage:  puma 5\n",
            "number of subpage:  puma 6\n",
            "number of subpage:  puma 7\n",
            "number of subpage:  puma 8\n",
            "4431.78 calculation time in sec\n"
          ]
        }
      ]
    },
    {
      "cell_type": "code",
      "source": [
        "adidas = scrap_eobuwie([\"adidas\"])"
      ],
      "metadata": {
        "colab": {
          "base_uri": "https://localhost:8080/"
        },
        "id": "NLMpPmqh40i4",
        "outputId": "f6d91cb0-5ef7-4e90-fe99-523caad2b738"
      },
      "execution_count": null,
      "outputs": [
        {
          "output_type": "stream",
          "name": "stdout",
          "text": [
            "number of subpage:  adidas 1\n",
            "number of subpage:  adidas 2\n",
            "number of subpage:  adidas 3\n",
            "number of subpage:  adidas 4\n",
            "number of subpage:  adidas 5\n",
            "number of subpage:  adidas 6\n",
            "number of subpage:  adidas 7\n",
            "number of subpage:  adidas 8\n",
            "number of subpage:  adidas 9\n",
            "number of subpage:  adidas 10\n",
            "number of subpage:  adidas 11\n",
            "number of subpage:  adidas 12\n",
            "number of subpage:  adidas 13\n",
            "number of subpage:  adidas 14\n",
            "number of subpage:  adidas 15\n",
            "number of subpage:  adidas 16\n",
            "number of subpage:  adidas 17\n",
            "number of subpage:  adidas 18\n",
            "9815.89 calculation time in sec\n"
          ]
        }
      ]
    },
    {
      "cell_type": "code",
      "source": [
        "reebok = scrap_eobuwie([\"reebok\"])"
      ],
      "metadata": {
        "colab": {
          "base_uri": "https://localhost:8080/"
        },
        "id": "T3ibsxYpd53b",
        "outputId": "d9b98549-3eda-489c-8321-18ead38a58ea"
      },
      "execution_count": 6,
      "outputs": [
        {
          "output_type": "stream",
          "name": "stdout",
          "text": [
            "number of subpage:  reebok 1\n",
            "number of subpage:  reebok 2\n",
            "number of subpage:  reebok 3\n",
            "number of subpage:  reebok 4\n",
            "number of subpage:  reebok 5\n",
            "2763.42 calculation time in sec\n"
          ]
        }
      ]
    },
    {
      "cell_type": "code",
      "source": [
        "cztery_f = scrap_eobuwie([\"4f\"])"
      ],
      "metadata": {
        "colab": {
          "base_uri": "https://localhost:8080/"
        },
        "id": "6hEny_JZL9kS",
        "outputId": "5d86c154-69c2-4de5-ef8c-4fe8a2b9fca8"
      },
      "execution_count": 7,
      "outputs": [
        {
          "output_type": "stream",
          "name": "stdout",
          "text": [
            "number of subpage:  4f 1\n",
            "number of subpage:  4f 2\n",
            "1157.41 calculation time in sec\n"
          ]
        }
      ]
    },
    {
      "cell_type": "code",
      "source": [
        "kappa = scrap_eobuwie([\"kappa\"])"
      ],
      "metadata": {
        "colab": {
          "base_uri": "https://localhost:8080/"
        },
        "id": "z1ZbtqCJL9sn",
        "outputId": "c53e8efc-5b33-45dc-82a0-406f7a9da061"
      },
      "execution_count": 8,
      "outputs": [
        {
          "output_type": "stream",
          "name": "stdout",
          "text": [
            "number of subpage:  kappa 1\n",
            "895.77 calculation time in sec\n"
          ]
        }
      ]
    },
    {
      "cell_type": "code",
      "source": [
        "skechers = scrap_eobuwie([\"skechers\"])"
      ],
      "metadata": {
        "colab": {
          "base_uri": "https://localhost:8080/"
        },
        "id": "FXh3SHbpUln-",
        "outputId": "aed5bf6c-012c-403e-8f37-fc8ad3693586"
      },
      "execution_count": 10,
      "outputs": [
        {
          "output_type": "stream",
          "name": "stdout",
          "text": [
            "number of subpage:  skechers 1\n",
            "number of subpage:  skechers 2\n",
            "number of subpage:  skechers 3\n",
            "number of subpage:  skechers 4\n",
            "number of subpage:  skechers 5\n",
            "number of subpage:  skechers 6\n",
            "number of subpage:  skechers 7\n",
            "number of subpage:  skechers 8\n",
            "number of subpage:  skechers 9\n",
            "number of subpage:  skechers 10\n",
            "5236.97 calculation time in sec\n"
          ]
        }
      ]
    },
    {
      "cell_type": "code",
      "source": [
        "new_balance= scrap_eobuwie([\"new_balance\"])"
      ],
      "metadata": {
        "colab": {
          "base_uri": "https://localhost:8080/",
          "height": 443
        },
        "id": "dF9w2MnXUlwU",
        "outputId": "d6561cdd-f1de-41f3-a378-0836a39a0edd"
      },
      "execution_count": 9,
      "outputs": [
        {
          "output_type": "stream",
          "name": "stdout",
          "text": [
            "number of subpage:  new_balance 1\n",
            "number of subpage:  new_balance 2\n",
            "number of subpage:  new_balance 3\n",
            "number of subpage:  new_balance 4\n",
            "number of subpage:  new_balance 5\n",
            "number of subpage:  new_balance 6\n",
            "number of subpage:  new_balance 7\n",
            "number of subpage:  new_balance 8\n",
            "number of subpage:  new_balance 9\n"
          ]
        },
        {
          "output_type": "error",
          "ename": "AttributeError",
          "evalue": "ignored",
          "traceback": [
            "\u001b[0;31m---------------------------------------------------------------------------\u001b[0m",
            "\u001b[0;31mAttributeError\u001b[0m                            Traceback (most recent call last)",
            "\u001b[0;32m<ipython-input-9-84310c5b5cac>\u001b[0m in \u001b[0;36m<module>\u001b[0;34m()\u001b[0m\n\u001b[0;32m----> 1\u001b[0;31m \u001b[0mnew_balance\u001b[0m\u001b[0;34m=\u001b[0m \u001b[0mscrap_eobuwie\u001b[0m\u001b[0;34m(\u001b[0m\u001b[0;34m[\u001b[0m\u001b[0;34m\"new_balance\"\u001b[0m\u001b[0;34m]\u001b[0m\u001b[0;34m)\u001b[0m\u001b[0;34m\u001b[0m\u001b[0;34m\u001b[0m\u001b[0m\n\u001b[0m",
            "\u001b[0;32m<ipython-input-4-a39ab2deb0aa>\u001b[0m in \u001b[0;36mscrap_eobuwie\u001b[0;34m(brands)\u001b[0m\n\u001b[1;32m     80\u001b[0m \u001b[0;34m\u001b[0m\u001b[0m\n\u001b[1;32m     81\u001b[0m         \u001b[0;31m# check if there is another subpage\u001b[0m\u001b[0;34m\u001b[0m\u001b[0;34m\u001b[0m\u001b[0;34m\u001b[0m\u001b[0m\n\u001b[0;32m---> 82\u001b[0;31m         \u001b[0mnext_page\u001b[0m \u001b[0;34m=\u001b[0m \u001b[0msoup\u001b[0m\u001b[0;34m.\u001b[0m\u001b[0mfind\u001b[0m\u001b[0;34m(\u001b[0m\u001b[0mclass_\u001b[0m\u001b[0;34m=\u001b[0m\u001b[0;34m'toolbar-bottom__pager'\u001b[0m\u001b[0;34m)\u001b[0m\u001b[0;34m.\u001b[0m\u001b[0mfind_all\u001b[0m\u001b[0;34m(\u001b[0m\u001b[0;34m'a'\u001b[0m\u001b[0;34m)\u001b[0m\u001b[0;34m[\u001b[0m\u001b[0;34m-\u001b[0m\u001b[0;36m1\u001b[0m\u001b[0;34m]\u001b[0m\u001b[0;34m.\u001b[0m\u001b[0mtext\u001b[0m\u001b[0;34m.\u001b[0m\u001b[0mstrip\u001b[0m\u001b[0;34m(\u001b[0m\u001b[0;34m)\u001b[0m\u001b[0;34m\u001b[0m\u001b[0;34m\u001b[0m\u001b[0m\n\u001b[0m\u001b[1;32m     83\u001b[0m \u001b[0;34m\u001b[0m\u001b[0m\n\u001b[1;32m     84\u001b[0m         \u001b[0;32mif\u001b[0m \u001b[0mnext_page\u001b[0m \u001b[0;34m!=\u001b[0m \u001b[0;34m'»'\u001b[0m\u001b[0;34m:\u001b[0m\u001b[0;34m\u001b[0m\u001b[0;34m\u001b[0m\u001b[0m\n",
            "\u001b[0;31mAttributeError\u001b[0m: 'NoneType' object has no attribute 'find_all'"
          ]
        }
      ]
    },
    {
      "cell_type": "code",
      "source": [
        "campus= scrap_eobuwie([\"campus\"])"
      ],
      "metadata": {
        "id": "-tODpPVWfqXL",
        "outputId": "c6636608-bbf8-4eaf-809e-ebae96dbb864",
        "colab": {
          "base_uri": "https://localhost:8080/",
          "height": 287
        }
      },
      "execution_count": 11,
      "outputs": [
        {
          "output_type": "error",
          "ename": "AttributeError",
          "evalue": "ignored",
          "traceback": [
            "\u001b[0;31m---------------------------------------------------------------------------\u001b[0m",
            "\u001b[0;31mAttributeError\u001b[0m                            Traceback (most recent call last)",
            "\u001b[0;32m<ipython-input-11-197554f8d8b7>\u001b[0m in \u001b[0;36m<module>\u001b[0;34m()\u001b[0m\n\u001b[0;32m----> 1\u001b[0;31m \u001b[0mcampus\u001b[0m\u001b[0;34m=\u001b[0m \u001b[0mscrap_eobuwie\u001b[0m\u001b[0;34m(\u001b[0m\u001b[0;34m[\u001b[0m\u001b[0;34m\"campus\"\u001b[0m\u001b[0;34m]\u001b[0m\u001b[0;34m)\u001b[0m\u001b[0;34m\u001b[0m\u001b[0;34m\u001b[0m\u001b[0m\n\u001b[0m",
            "\u001b[0;32m<ipython-input-4-a39ab2deb0aa>\u001b[0m in \u001b[0;36mscrap_eobuwie\u001b[0;34m(brands)\u001b[0m\n\u001b[1;32m     80\u001b[0m \u001b[0;34m\u001b[0m\u001b[0m\n\u001b[1;32m     81\u001b[0m         \u001b[0;31m# check if there is another subpage\u001b[0m\u001b[0;34m\u001b[0m\u001b[0;34m\u001b[0m\u001b[0;34m\u001b[0m\u001b[0m\n\u001b[0;32m---> 82\u001b[0;31m         \u001b[0mnext_page\u001b[0m \u001b[0;34m=\u001b[0m \u001b[0msoup\u001b[0m\u001b[0;34m.\u001b[0m\u001b[0mfind\u001b[0m\u001b[0;34m(\u001b[0m\u001b[0mclass_\u001b[0m\u001b[0;34m=\u001b[0m\u001b[0;34m'toolbar-bottom__pager'\u001b[0m\u001b[0;34m)\u001b[0m\u001b[0;34m.\u001b[0m\u001b[0mfind_all\u001b[0m\u001b[0;34m(\u001b[0m\u001b[0;34m'a'\u001b[0m\u001b[0;34m)\u001b[0m\u001b[0;34m[\u001b[0m\u001b[0;34m-\u001b[0m\u001b[0;36m1\u001b[0m\u001b[0;34m]\u001b[0m\u001b[0;34m.\u001b[0m\u001b[0mtext\u001b[0m\u001b[0;34m.\u001b[0m\u001b[0mstrip\u001b[0m\u001b[0;34m(\u001b[0m\u001b[0;34m)\u001b[0m\u001b[0;34m\u001b[0m\u001b[0;34m\u001b[0m\u001b[0m\n\u001b[0m\u001b[1;32m     83\u001b[0m \u001b[0;34m\u001b[0m\u001b[0m\n\u001b[1;32m     84\u001b[0m         \u001b[0;32mif\u001b[0m \u001b[0mnext_page\u001b[0m \u001b[0;34m!=\u001b[0m \u001b[0;34m'»'\u001b[0m\u001b[0;34m:\u001b[0m\u001b[0;34m\u001b[0m\u001b[0;34m\u001b[0m\u001b[0m\n",
            "\u001b[0;31mAttributeError\u001b[0m: 'NoneType' object has no attribute 'find_all'"
          ]
        }
      ]
    },
    {
      "cell_type": "code",
      "source": [
        "link = \"https://www.eobuwie.com.pl/skechers.html?p=11\""
      ],
      "metadata": {
        "id": "f1cKcIIDBCEp"
      },
      "execution_count": 20,
      "outputs": []
    },
    {
      "cell_type": "code",
      "source": [
        "page = requests.get(link, headers = headers, timeout = 98) \n",
        "soup = BeautifulSoup(page.content)\n",
        "next_page = soup.find(class_='toolbar-bottom__pager').find_all('a')[-1].text.strip()\n",
        "next_page"
      ],
      "metadata": {
        "colab": {
          "base_uri": "https://localhost:8080/",
          "height": 35
        },
        "id": "wGrfCsTxBCHR",
        "outputId": "c5dddedd-526f-4a48-b5f4-83806f2bbe68"
      },
      "execution_count": 22,
      "outputs": [
        {
          "output_type": "execute_result",
          "data": {
            "application/vnd.google.colaboratory.intrinsic+json": {
              "type": "string"
            },
            "text/plain": [
              "'10'"
            ]
          },
          "metadata": {},
          "execution_count": 22
        }
      ]
    },
    {
      "cell_type": "code",
      "source": [
        "try:\n",
        "  next_page = soup.find(class_='toolbar-bottom__pager').find_all('a')[-1].text.strip()\n",
        "\n",
        "  if next_page != '»' or next_page == str(10):\n",
        "    print(\"xxx\")\n",
        "except:\n",
        "  print(\"Ddd\")"
      ],
      "metadata": {
        "colab": {
          "base_uri": "https://localhost:8080/"
        },
        "id": "wh_QQ3rZBCJ3",
        "outputId": "cbcb2aea-787b-4419-8732-71bd8df47aee"
      },
      "execution_count": 25,
      "outputs": [
        {
          "output_type": "stream",
          "name": "stdout",
          "text": [
            "xxx\n"
          ]
        }
      ]
    },
    {
      "cell_type": "code",
      "source": [
        ""
      ],
      "metadata": {
        "id": "ls6Kc3OzBCMk"
      },
      "execution_count": null,
      "outputs": []
    },
    {
      "cell_type": "code",
      "source": [
        ""
      ],
      "metadata": {
        "id": "xyo2D56iBCOy"
      },
      "execution_count": null,
      "outputs": []
    },
    {
      "cell_type": "code",
      "source": [
        ""
      ],
      "metadata": {
        "id": "CYjLhY0oBCRf"
      },
      "execution_count": null,
      "outputs": []
    },
    {
      "cell_type": "code",
      "source": [
        "ipanema= scrap_eobuwie([\"ipanema\"])"
      ],
      "metadata": {
        "colab": {
          "base_uri": "https://localhost:8080/"
        },
        "id": "YLC9gcmT7WKb",
        "outputId": "9ef31ecf-b1e6-4bb9-df45-6003e7184d2d"
      },
      "execution_count": 12,
      "outputs": [
        {
          "output_type": "stream",
          "name": "stdout",
          "text": [
            "number of subpage:  ipanema 1\n",
            "646.89 calculation time in sec\n"
          ]
        }
      ]
    },
    {
      "cell_type": "code",
      "source": [
        "data = reebok.append(cztery_f, kappa,skechers, new_balance,ipanema)"
      ],
      "metadata": {
        "id": "EwIrAdel9fLz"
      },
      "execution_count": null,
      "outputs": []
    },
    {
      "cell_type": "code",
      "source": [
        ""
      ],
      "metadata": {
        "id": "jjx9dNrKxw-v"
      },
      "execution_count": null,
      "outputs": []
    },
    {
      "cell_type": "code",
      "source": [
        "today = datetime.today().strftime('%Y-%m-%d')\n",
        "data.to_csv(\"Eobuwie_\" + today + \".csv\",index = False)"
      ],
      "metadata": {
        "id": "4RX2xMAU-rYp"
      },
      "execution_count": null,
      "outputs": []
    }
  ]
}