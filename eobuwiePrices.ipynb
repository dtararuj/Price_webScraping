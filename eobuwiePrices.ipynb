{
  "nbformat": 4,
  "nbformat_minor": 0,
  "metadata": {
    "colab": {
      "name": "eobuwiePrices.ipynb",
      "provenance": [],
      "collapsed_sections": [],
      "authorship_tag": "ABX9TyPZEW4cKHHWdWHj8VFJvGi/"
    },
    "kernelspec": {
      "name": "python3",
      "display_name": "Python 3"
    },
    "language_info": {
      "name": "python"
    }
  },
  "cells": [
    {
      "cell_type": "code",
      "execution_count": 131,
      "metadata": {
        "id": "bA6VfTSWKytz"
      },
      "outputs": [],
      "source": [
        "from bs4 import BeautifulSoup\n",
        "import requests \n",
        "import pandas as pd\n",
        "from time import time, sleep\n",
        "from datetime import datetime\n",
        "import random\n",
        "from json import loads\n",
        "import json\n",
        "import re"
      ]
    },
    {
      "cell_type": "code",
      "source": [
        "link = 'https://www.eobuwie.com.pl/oferta'"
      ],
      "metadata": {
        "id": "EUXBJX0UMNhj"
      },
      "execution_count": 81,
      "outputs": []
    },
    {
      "cell_type": "code",
      "source": [
        "page = requests.get(link)"
      ],
      "metadata": {
        "id": "46fnwrZHMNkO"
      },
      "execution_count": 82,
      "outputs": []
    },
    {
      "cell_type": "code",
      "source": [
        "soup = BeautifulSoup(page.content)"
      ],
      "metadata": {
        "id": "1QZB_ck7MNo4"
      },
      "execution_count": 337,
      "outputs": []
    },
    {
      "cell_type": "code",
      "source": [
        "link_article = soup.find(attrs =  {\"class\": \"products-list__link\"})['href'][2:]\n"
      ],
      "metadata": {
        "id": "SaZOH3v0MNqz"
      },
      "execution_count": 84,
      "outputs": []
    },
    {
      "cell_type": "code",
      "source": [
        "link_article "
      ],
      "metadata": {
        "colab": {
          "base_uri": "https://localhost:8080/",
          "height": 35
        },
        "id": "8-QMzvagV3TH",
        "outputId": "9edf7dbb-0ef6-4ecb-f47b-05cbd0d0903d"
      },
      "execution_count": 97,
      "outputs": [
        {
          "output_type": "execute_result",
          "data": {
            "application/vnd.google.colaboratory.intrinsic+json": {
              "type": "string"
            },
            "text/plain": [
              "'www.eobuwie.com.pl/buty-adidas-superstar-j-fu7712-ftwwht-cblack-ftwwht.html'"
            ]
          },
          "metadata": {},
          "execution_count": 97
        }
      ]
    },
    {
      "cell_type": "code",
      "source": [
        "# testowo dowolny inny artykul\n",
        "\n",
        "link_article = \"www.eobuwie.com.pl/sneakersy-puma-rose-raw-metallics-383849-03-pristine-rose-gold.html\""
      ],
      "metadata": {
        "id": "vrUYZY2Gln0y"
      },
      "execution_count": 220,
      "outputs": []
    },
    {
      "cell_type": "code",
      "source": [
        "page_article = requests.get(\"http://\" + link_article)"
      ],
      "metadata": {
        "id": "QZ7HXmi3MNxq"
      },
      "execution_count": 221,
      "outputs": []
    },
    {
      "cell_type": "code",
      "source": [
        "soup_article = BeautifulSoup(page_article.content)"
      ],
      "metadata": {
        "id": "fxx8lWsGMN2V"
      },
      "execution_count": 222,
      "outputs": []
    },
    {
      "cell_type": "code",
      "source": [
        "try:\n",
        "   RRP = soup_article.find(attrs = {\"class\" : \"e-product-price__group\"}).find(attrs = {\"class\" : \"e-product-price__regular\"}).text.strip().replace('\\xa0zł',\"\")\n",
        "except:\n",
        "  RRP = soup_article.find(attrs = {\"class\" : \"e-product-price__normal\"}).text.strip().replace('\\xa0zł',\"\")\n",
        "#  else:\n",
        " #  soup_article.find(attrs = {\"class\" : \"e-product-price__normal\"}).text.strip().replace('\\xa0zł',\"\")\n"
      ],
      "metadata": {
        "id": "ru6tFbLyQNjQ"
      },
      "execution_count": 239,
      "outputs": []
    },
    {
      "cell_type": "code",
      "source": [
        "soup_article.find(attrs = {\"class\" : \"e-product-price__group\"})"
      ],
      "metadata": {
        "id": "YUWffRvnuLqo"
      },
      "execution_count": 240,
      "outputs": []
    },
    {
      "cell_type": "code",
      "source": [
        "try:\n",
        "  PRICE = soup_article.find(attrs = {\"class\" : \"e-product-price__group\"}).find(attrs = {\"class\" : \"e-product-price__special\"}).text.strip().replace('\\xa0zł',\"\")\n",
        "except:\n",
        "  PRICE = RRP\n",
        "else:\n",
        "  PRICE = RRP"
      ],
      "metadata": {
        "id": "93hmj9i_Rj_s"
      },
      "execution_count": 242,
      "outputs": []
    },
    {
      "cell_type": "code",
      "source": [
        "NAZWA = soup_article.find(\"meta\" ,property=\"product:mfr_part_no\")[\"content\"]"
      ],
      "metadata": {
        "id": "mA2EphBWlZ7S"
      },
      "execution_count": 244,
      "outputs": []
    },
    {
      "cell_type": "code",
      "source": [
        "RRP, PRICE, NAZWA"
      ],
      "metadata": {
        "colab": {
          "base_uri": "https://localhost:8080/"
        },
        "id": "oO2dBVBSlZ9o",
        "outputId": "a7dccf5c-1a9d-4ec7-a8cd-34a9011d13cd"
      },
      "execution_count": 245,
      "outputs": [
        {
          "output_type": "execute_result",
          "data": {
            "text/plain": [
              "('269,99', '269,99', 'Rose Raw Metallics 383849 03')"
            ]
          },
          "metadata": {},
          "execution_count": 245
        }
      ]
    },
    {
      "cell_type": "code",
      "source": [
        "# get free IP's from Poland\n",
        "ip_link = 'http://free-proxy.cz/en/proxylist/country/PL/all/ping/all'\n",
        "ip_page = requests.get(ip_link)\n",
        "soup_ip = BeautifulSoup(ip_page.content)\n"
      ],
      "metadata": {
        "id": "yk6ePXUolaAD"
      },
      "execution_count": 382,
      "outputs": []
    },
    {
      "cell_type": "code",
      "source": [
        "# get table from website\n",
        "data = []\n",
        "\n",
        "table = soup_ip.find('table',{'id': 'proxy_list'})\n",
        "rows = table.find_all('tr')\n",
        "\n",
        "for row in rows:\n",
        "    cols = row.find_all('td')\n",
        "    cols = [ele.text.strip() for ele in cols]\n",
        "    data.append([ele for ele in cols if ele]) # Get rid of empty values"
      ],
      "metadata": {
        "id": "LlFIZh3DlaE8"
      },
      "execution_count": 383,
      "outputs": []
    },
    {
      "cell_type": "code",
      "source": [
        "# get only ip number in a list\n",
        "ip_list = []\n",
        "\n",
        "# ip on this side are decoded, so we have encode them\n",
        "for i in data:\n",
        "  try:\n",
        "    decoded = i[0].replace(\"document.write(Base64.decode(\",\"\").replace(\"))\",\"\")  \n",
        "    encoded = base64.b64decode(decoded).decode()\n",
        "    ip_list.append(encoded)\n",
        "  except:\n",
        "    continue\n",
        "  \n",
        "  "
      ],
      "metadata": {
        "id": "gIxDrOel7TKm"
      },
      "execution_count": 385,
      "outputs": []
    },
    {
      "cell_type": "code",
      "source": [
        "ip_list"
      ],
      "metadata": {
        "colab": {
          "base_uri": "https://localhost:8080/"
        },
        "id": "F9c51Al-7cce",
        "outputId": "dceff50b-cedf-4948-f930-1853728d26f5"
      },
      "execution_count": 386,
      "outputs": [
        {
          "output_type": "execute_result",
          "data": {
            "text/plain": [
              "['40.84.24.155',\n",
              " '173.0.255.16',\n",
              " '199.19.95.247',\n",
              " '199.19.95.130',\n",
              " '216.39.173.51',\n",
              " '91.121.42.68',\n",
              " '66.253.164.20',\n",
              " '69.36.65.214',\n",
              " '172.87.9.218',\n",
              " '173.0.254.238',\n",
              " '174.141.207.88',\n",
              " '162.219.230.119',\n",
              " '216.8.217.243',\n",
              " '216.171.17.119',\n",
              " '104.145.70.226',\n",
              " '54.202.219.193',\n",
              " '207.177.47.42',\n",
              " '76.191.26.232',\n",
              " '216.171.16.123',\n",
              " '76.10.41.124',\n",
              " '75.103.143.93',\n",
              " '68.39.112.128',\n",
              " '173.245.150.34',\n",
              " '76.191.26.65',\n",
              " '76.10.43.164',\n",
              " '104.145.103.38',\n",
              " '24.219.71.59',\n",
              " '68.180.3.212',\n",
              " '178.213.145.24',\n",
              " '12.35.68.239']"
            ]
          },
          "metadata": {},
          "execution_count": 386
        }
      ]
    },
    {
      "cell_type": "code",
      "source": [
        ""
      ],
      "metadata": {
        "id": "4wuxI5sv7TNG"
      },
      "execution_count": null,
      "outputs": []
    },
    {
      "cell_type": "code",
      "source": [
        ""
      ],
      "metadata": {
        "id": "QJnXvXZO5n-J"
      },
      "execution_count": null,
      "outputs": []
    },
    {
      "cell_type": "code",
      "source": [
        ""
      ],
      "metadata": {
        "id": "MVUa-38x5oAm"
      },
      "execution_count": null,
      "outputs": []
    },
    {
      "cell_type": "code",
      "source": [
        ""
      ],
      "metadata": {
        "id": "CDkA1djq5oDJ"
      },
      "execution_count": null,
      "outputs": []
    },
    {
      "cell_type": "code",
      "source": [
        ""
      ],
      "metadata": {
        "id": "R8xG_Z0n5oFi"
      },
      "execution_count": null,
      "outputs": []
    },
    {
      "cell_type": "code",
      "source": [
        ""
      ],
      "metadata": {
        "id": "AiAnrwiB5oIV"
      },
      "execution_count": null,
      "outputs": []
    }
  ]
}