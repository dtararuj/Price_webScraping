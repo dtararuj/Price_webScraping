{
  "nbformat": 4,
  "nbformat_minor": 0,
  "metadata": {
    "colab": {
      "name": "eobuwiePrices.ipynb",
      "provenance": [],
      "collapsed_sections": [],
      "authorship_tag": "ABX9TyPrZiBrC+FWkxTpgRpZ+kSH"
    },
    "kernelspec": {
      "name": "python3",
      "display_name": "Python 3"
    },
    "language_info": {
      "name": "python"
    }
  },
  "cells": [
    {
      "cell_type": "code",
      "execution_count": 131,
      "metadata": {
        "id": "bA6VfTSWKytz"
      },
      "outputs": [],
      "source": [
        "from bs4 import BeautifulSoup\n",
        "import requests \n",
        "import pandas as pd\n",
        "from time import time, sleep\n",
        "from datetime import datetime\n",
        "import random\n",
        "from json import loads\n",
        "import json\n",
        "import re"
      ]
    },
    {
      "cell_type": "code",
      "source": [
        "link = 'https://www.eobuwie.com.pl/oferta'"
      ],
      "metadata": {
        "id": "EUXBJX0UMNhj"
      },
      "execution_count": 413,
      "outputs": []
    },
    {
      "cell_type": "code",
      "source": [
        "page = requests.get(link)"
      ],
      "metadata": {
        "id": "46fnwrZHMNkO"
      },
      "execution_count": 414,
      "outputs": []
    },
    {
      "cell_type": "code",
      "source": [
        "soup = BeautifulSoup(page.content)"
      ],
      "metadata": {
        "id": "1QZB_ck7MNo4"
      },
      "execution_count": 415,
      "outputs": []
    },
    {
      "cell_type": "code",
      "source": [
        "link_article = soup.find(attrs =  {\"class\": \"products-list__link\"})['href'][2:]\n"
      ],
      "metadata": {
        "id": "SaZOH3v0MNqz"
      },
      "execution_count": 84,
      "outputs": []
    },
    {
      "cell_type": "code",
      "source": [
        "for i in soup.find_all(attrs =  {\"class\": \"products-list__link\"}):\n",
        "  try:\n",
        "    i['href'][2:]\n",
        "  except:\n",
        "    continue\n",
        "  "
      ],
      "metadata": {
        "id": "0GiDhpQ1G10r"
      },
      "execution_count": null,
      "outputs": []
    },
    {
      "cell_type": "code",
      "source": [
        "soup.find_all(attrs =  {\"class\": \"products-list__link\"})[11]['href'][2:]\n"
      ],
      "metadata": {
        "colab": {
          "base_uri": "https://localhost:8080/",
          "height": 35
        },
        "id": "8-QMzvagV3TH",
        "outputId": "1a8bdddb-d1cb-4c8b-aedc-e46635258e0e"
      },
      "execution_count": 467,
      "outputs": [
        {
          "output_type": "execute_result",
          "data": {
            "application/vnd.google.colaboratory.intrinsic+json": {
              "type": "string"
            },
            "text/plain": [
              "'www.eobuwie.com.pl/sneakersy-skechers-subtle-spots-155616-bbk-black.html'"
            ]
          },
          "metadata": {},
          "execution_count": 467
        }
      ]
    },
    {
      "cell_type": "code",
      "source": [
        "# testowo dowolny inny artykul\n",
        "\n",
        "link_article = \"www.eobuwie.com.pl/sneakersy-puma-rose-raw-metallics-383849-03-pristine-rose-gold.html\""
      ],
      "metadata": {
        "id": "vrUYZY2Gln0y"
      },
      "execution_count": 220,
      "outputs": []
    },
    {
      "cell_type": "code",
      "source": [
        "page_article = requests.get(\"http://\" + link_article)"
      ],
      "metadata": {
        "id": "QZ7HXmi3MNxq"
      },
      "execution_count": 221,
      "outputs": []
    },
    {
      "cell_type": "code",
      "source": [
        "soup_article = BeautifulSoup(page_article.content)"
      ],
      "metadata": {
        "id": "fxx8lWsGMN2V"
      },
      "execution_count": 222,
      "outputs": []
    },
    {
      "cell_type": "code",
      "source": [
        "try:\n",
        "   RRP = soup_article.find(attrs = {\"class\" : \"e-product-price__group\"}).find(attrs = {\"class\" : \"e-product-price__regular\"}).text.strip().replace('\\xa0zł',\"\")\n",
        "except:\n",
        "  RRP = soup_article.find(attrs = {\"class\" : \"e-product-price__normal\"}).text.strip().replace('\\xa0zł',\"\")\n",
        "#  else:\n",
        " #  soup_article.find(attrs = {\"class\" : \"e-product-price__normal\"}).text.strip().replace('\\xa0zł',\"\")\n"
      ],
      "metadata": {
        "id": "ru6tFbLyQNjQ"
      },
      "execution_count": 239,
      "outputs": []
    },
    {
      "cell_type": "code",
      "source": [
        "soup_article.find(attrs = {\"class\" : \"e-product-price__group\"})"
      ],
      "metadata": {
        "id": "YUWffRvnuLqo"
      },
      "execution_count": 240,
      "outputs": []
    },
    {
      "cell_type": "code",
      "source": [
        "try:\n",
        "  PRICE = soup_article.find(attrs = {\"class\" : \"e-product-price__group\"}).find(attrs = {\"class\" : \"e-product-price__special\"}).text.strip().replace('\\xa0zł',\"\")\n",
        "except:\n",
        "  PRICE = RRP\n",
        "else:\n",
        "  PRICE = RRP"
      ],
      "metadata": {
        "id": "93hmj9i_Rj_s"
      },
      "execution_count": 242,
      "outputs": []
    },
    {
      "cell_type": "code",
      "source": [
        "NAZWA = soup_article.find(\"meta\" ,property=\"product:mfr_part_no\")[\"content\"]"
      ],
      "metadata": {
        "id": "mA2EphBWlZ7S"
      },
      "execution_count": 244,
      "outputs": []
    },
    {
      "cell_type": "code",
      "source": [
        "RRP, PRICE, NAZWA"
      ],
      "metadata": {
        "colab": {
          "base_uri": "https://localhost:8080/"
        },
        "id": "oO2dBVBSlZ9o",
        "outputId": "a7dccf5c-1a9d-4ec7-a8cd-34a9011d13cd"
      },
      "execution_count": 245,
      "outputs": [
        {
          "output_type": "execute_result",
          "data": {
            "text/plain": [
              "('269,99', '269,99', 'Rose Raw Metallics 383849 03')"
            ]
          },
          "metadata": {},
          "execution_count": 245
        }
      ]
    },
    {
      "cell_type": "code",
      "source": [
        "###### automated code"
      ],
      "metadata": {
        "id": "OiyH8yYpCNTt"
      },
      "execution_count": null,
      "outputs": []
    },
    {
      "cell_type": "code",
      "source": [
        "# get free IP's from Poland\n",
        "ip_link = 'http://free-proxy.cz/en/proxylist/country/PL/all/ping/all'\n",
        "ip_page = requests.get(ip_link)\n",
        "soup_ip = BeautifulSoup(ip_page.content)\n"
      ],
      "metadata": {
        "id": "yk6ePXUolaAD"
      },
      "execution_count": 382,
      "outputs": []
    },
    {
      "cell_type": "code",
      "source": [
        "# get table from website\n",
        "data = []\n",
        "\n",
        "table = soup_ip.find('table',{'id': 'proxy_list'})\n",
        "rows = table.find_all('tr')\n",
        "\n",
        "for row in rows:\n",
        "    cols = row.find_all('td')\n",
        "    cols = [ele.text.strip() for ele in cols]\n",
        "    data.append([ele for ele in cols if ele]) # Get rid of empty values"
      ],
      "metadata": {
        "id": "LlFIZh3DlaE8"
      },
      "execution_count": 383,
      "outputs": []
    },
    {
      "cell_type": "code",
      "source": [
        "# get only ip number in a list\n",
        "ip_list = []\n",
        "\n",
        "# ip on this side are decoded, so we have encode them\n",
        "for i in data:\n",
        "  try:\n",
        "    decoded = i[0].replace(\"document.write(Base64.decode(\",\"\").replace(\"))\",\"\")  \n",
        "    encoded = base64.b64decode(decoded).decode()\n",
        "    ip_list.append(encoded)\n",
        "  except:\n",
        "    continue"
      ],
      "metadata": {
        "id": "gIxDrOel7TKm"
      },
      "execution_count": 385,
      "outputs": []
    },
    {
      "cell_type": "code",
      "source": [
        "# list of free proxies\n",
        "\n",
        "proxies = []\n",
        "for ip in ip_list:\n",
        "  x = {\"http\": ip}\n",
        "  proxies.append(x)"
      ],
      "metadata": {
        "colab": {
          "base_uri": "https://localhost:8080/"
        },
        "id": "F9c51Al-7cce",
        "outputId": "2ae7f0fe-f5c1-437a-e3e9-d6a05ef96d58"
      },
      "execution_count": 400,
      "outputs": [
        {
          "output_type": "execute_result",
          "data": {
            "text/plain": [
              "{'http': '216.39.173.51'}"
            ]
          },
          "metadata": {},
          "execution_count": 400
        }
      ]
    },
    {
      "cell_type": "code",
      "source": [
        "headers = {\n",
        "    'Accept-Encoding': 'gzip, deflate, sdch',\n",
        "    'Accept-Language': 'en-US,en;q=0.8',\n",
        "    'Upgrade-Insecure-Requests': '1',\n",
        "    'User-Agent': 'Mozilla/5.0 (X11; Linux x86_64)',\n",
        "    'Accept': 'text/html,application/xhtml+xml,application/xml;q=0.9,image/webp,*/*;q=0.8',\n",
        "    'Cache-Control': 'max-age=0',\n",
        "    'Connection': 'keep-alive',\n",
        "}"
      ],
      "metadata": {
        "colab": {
          "base_uri": "https://localhost:8080/"
        },
        "id": "4wuxI5sv7TNG",
        "outputId": "2e61cccf-0d1b-4a6c-e104-350a9a843b9f"
      },
      "execution_count": 402,
      "outputs": [
        {
          "output_type": "execute_result",
          "data": {
            "text/plain": [
              "list"
            ]
          },
          "metadata": {},
          "execution_count": 402
        }
      ]
    },
    {
      "cell_type": "code",
      "source": [
        "#def scrap_eobuwie(main_url = \"https://www.eobuwie.com.pl/producenci:\",subpages = [\"adidas_performance\",\"puma\", \"reebok\",\"4f\",\"kappa\",\"new_balance\",\"skechers\",\"under_armour\",\"vans\",\"lee_cooper\",\"ipanema\",\"campus\"],  prefix = '.html']\n",
        "\n",
        "## dodaj iteracje przez wszystkie podstrony\n",
        "\n",
        "def scrap_eobuie(brands):\n",
        "\n",
        "  start = time()\n",
        "\n",
        "    session = requests.Session()\n",
        "    session.max_redirects = 60\n",
        "    cookies = dict(cookies_are='working')\n",
        "    \n",
        "    # empty dataframe to collect data\n",
        "    pricelist = pd.DataFrame({\"Article\" : [],\n",
        "                 \"Price\" : [],\n",
        "                 \"RRP\": []})\n",
        "    \n",
        "    # iterate through each provided brand\n",
        "    for brand in brands:\n",
        "      url = \"https://www.eobuwie.com.pl/producenci:\" + brand + \".html\"\n",
        "\n",
        "      # get whole structure of data, and avoid getting blocked, by add headers parameter\n",
        "      page = session.get(url, headers = headers,cookies=cookies) \n",
        "\n",
        "      # let parse our web page\n",
        "      soup = BeautifulSoup(page.content),\n",
        "\n",
        "      # iterate throug all products on one page to get direct link to them\n",
        "      for product in soup.find_all(attrs =  {\"class\": \"products-list__link\"}):\n",
        "        try:\n",
        "          link = product['href'][2:]\n",
        "        except:  ### czy to jest dobre miejsca)\n",
        "          continue\n",
        "      \n",
        "        # choose random proxy\n",
        "        proxy = random.choice(proxies)\n",
        "\n",
        "        page_article = session.get(link, headers = headers,proxies = proxy, timeout = 98,cookies=cookies) \n",
        "        soup_article = BeautifulSoup(page_article.content)\n",
        "\n",
        "        # getting information about articels\n",
        "        try:\n",
        "          RRP = soup_article.find(attrs = {\"class\" : \"e-product-price__group\"}).find(attrs = {\"class\" : \"e-product-price__regular\"}).text.strip().replace('\\xa0zł',\"\")\n",
        "        except:\n",
        "          RRP = soup_article.find(attrs = {\"class\" : \"e-product-price__normal\"}).text.strip().replace('\\xa0zł',\"\")\n",
        "\n",
        "        try:\n",
        "          PRICE = soup_article.find(attrs = {\"class\" : \"e-product-price__group\"}).find(attrs = {\"class\" : \"e-product-price__special\"}).text.strip().replace('\\xa0zł',\"\")\n",
        "        except:\n",
        "          PRICE = RRP\n",
        "\n",
        "        NAME = soup_article.find(\"meta\" ,property=\"product:mfr_part_no\")[\"content\"]\n",
        "\n",
        "\n",
        "        pricelist = pricelist.append({'Article' : NAME,\n",
        "                               'Price' : PRICE,\n",
        "                               'RRP' : RRP},\n",
        "                              ignore_index = True)\n",
        "        \n",
        "        # sleep for one seconds after each link to avoid block\n",
        "        sleep(1)\n",
        "\n",
        "    end = time()\n",
        "    print(round(end - start,2), 'calculation time in sec')\n",
        "    \n",
        "    return pricelist\n"
      ],
      "metadata": {
        "id": "QJnXvXZO5n-J"
      },
      "execution_count": null,
      "outputs": []
    },
    {
      "cell_type": "code",
      "source": [
        "brands = [\"adidas_performance\",\"puma\", \"reebok\",\"4f\",\"kappa\",\"new_balance\",\"skechers\",\"under_armour\",\"vans\",\"lee_cooper\",\"ipanema\",\"campus\"]"
      ],
      "metadata": {
        "id": "MVUa-38x5oAm"
      },
      "execution_count": 411,
      "outputs": []
    },
    {
      "cell_type": "code",
      "source": [
        ""
      ],
      "metadata": {
        "id": "CDkA1djq5oDJ"
      },
      "execution_count": null,
      "outputs": []
    },
    {
      "cell_type": "code",
      "source": [
        ""
      ],
      "metadata": {
        "id": "R8xG_Z0n5oFi"
      },
      "execution_count": null,
      "outputs": []
    },
    {
      "cell_type": "code",
      "source": [
        ""
      ],
      "metadata": {
        "id": "AiAnrwiB5oIV"
      },
      "execution_count": null,
      "outputs": []
    }
  ]
}